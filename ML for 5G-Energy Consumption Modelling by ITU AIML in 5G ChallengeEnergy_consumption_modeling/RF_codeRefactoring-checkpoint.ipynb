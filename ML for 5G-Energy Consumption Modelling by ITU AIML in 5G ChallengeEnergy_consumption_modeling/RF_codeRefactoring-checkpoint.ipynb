{
 "cells": [
  {
   "cell_type": "code",
   "execution_count": 2,
   "metadata": {},
   "outputs": [
    {
     "name": "stderr",
     "output_type": "stream",
     "text": [
      "C:\\Users\\Lenovo\\Anaconda3\\lib\\site-packages\\dask\\dataframe\\utils.py:14: FutureWarning: pandas.util.testing is deprecated. Use the functions in the public API at pandas.testing instead.\n",
      "  import pandas.util.testing as tm\n",
      "C:\\Users\\Lenovo\\Anaconda3\\lib\\site-packages\\distributed\\utils.py:128: RuntimeWarning: Couldn't detect a suitable IP address for reaching '8.8.8.8', defaulting to '127.0.0.1': [WinError 10065] A socket operation was attempted to an unreachable host\n",
      "  % (host, default, e), RuntimeWarning)\n"
     ]
    }
   ],
   "source": [
    "import numpy as np\n",
    "import pandas as pd\n",
    "import matplotlib.pyplot as plt\n",
    "import seaborn as sns\n",
    "from scipy import stats\n",
    "\n",
    "\n",
    "from sklearn.preprocessing import StandardScaler\n",
    "from sklearn.model_selection import KFold\n",
    "from sklearn.ensemble import RandomForestClassifier\n",
    "from sklearn.preprocessing import StandardScaler\n",
    "from sklearn.preprocessing import OneHotEncoder, LabelEncoder\n",
    "from sklearn.linear_model import LogisticRegression\n",
    "from sklearn.model_selection import StratifiedShuffleSplit\n",
    "\n",
    "from sklearn.model_selection import train_test_split\n",
    "#from lightgbm import LGBMClassifier\n",
    "from sklearn.metrics import mean_absolute_error \n",
    "from lightgbm import LGBMRegressor\n",
    "\n",
    "pd.set_option('display.float_format', lambda x: '%.3f' % x)\n",
    "pd.set_option('display.max_columns', None)"
   ]
  },
  {
   "cell_type": "code",
   "execution_count": 3,
   "metadata": {},
   "outputs": [],
   "source": [
    "\n",
    "BSinfo = pd.read_csv(\"D:\\competition\\energy_consumption\\BSinfo.csv\")\n",
    "CLdata = pd.read_csv(\"D:\\competition\\energy_consumption\\CLdata.csv\")\n",
    "ECdata = pd.read_csv(\"D:\\competition\\energy_consumption\\ECdata.csv\")\n",
    "test = pd.read_csv(\"D:\\competition\\energy_consumption\\Test.csv\")\n",
    "sample_submission= pd.read_csv(\"D:\\competition\\energy_consumption\\SampleSubmission.csv\")"
   ]
  },
  {
   "cell_type": "code",
   "execution_count": null,
   "metadata": {},
   "outputs": [],
   "source": [
    "BSinfo.columns"
   ]
  },
  {
   "cell_type": "code",
   "execution_count": null,
   "metadata": {},
   "outputs": [],
   "source": [
    "# width = 6\n",
    "# height = 5\n",
    "# d = train_df.dropna()\n",
    "# plt.figure(figsize=(width*3,height*2))\n",
    "\n",
    "# for i, column in enumerate(d.columns, 1):\n",
    "#     plt.subplot(2,3,i)\n",
    "#     plt.boxplot(d[column])\n",
    "#     plt.xlabel(column, fontsize=18)"
   ]
  },
  {
   "cell_type": "code",
   "execution_count": null,
   "metadata": {},
   "outputs": [],
   "source": [
    "BSinfo.info()"
   ]
  },
  {
   "cell_type": "code",
   "execution_count": null,
   "metadata": {},
   "outputs": [],
   "source": [
    "#CLdata"
   ]
  },
  {
   "cell_type": "code",
   "execution_count": null,
   "metadata": {},
   "outputs": [],
   "source": [
    "CLdata[\"BS_CEELL\"]=CLdata[\"BS\"].apply(str)+\"_\"+CLdata['CellName'].apply(str)"
   ]
  },
  {
   "cell_type": "code",
   "execution_count": null,
   "metadata": {},
   "outputs": [],
   "source": [
    "CLdata[\"BS_CEELL\"].nunique()"
   ]
  },
  {
   "cell_type": "code",
   "execution_count": null,
   "metadata": {},
   "outputs": [],
   "source": [
    "CLdata[\"BS\"].unique()"
   ]
  },
  {
   "cell_type": "code",
   "execution_count": null,
   "metadata": {},
   "outputs": [],
   "source": [
    "CLdata[\"BS\"].nunique()"
   ]
  },
  {
   "cell_type": "code",
   "execution_count": null,
   "metadata": {},
   "outputs": [],
   "source": [
    "#ECdata"
   ]
  },
  {
   "cell_type": "code",
   "execution_count": null,
   "metadata": {},
   "outputs": [],
   "source": [
    "BSinfo[\"BS_CEELL\"]=BSinfo[\"BS\"].apply(str)+\"_\"+BSinfo['CellName'].apply(str)\n"
   ]
  },
  {
   "cell_type": "code",
   "execution_count": null,
   "metadata": {},
   "outputs": [],
   "source": [
    "BSinfo[\"BS_CEELL\"]"
   ]
  },
  {
   "cell_type": "code",
   "execution_count": null,
   "metadata": {},
   "outputs": [],
   "source": [
    "BSinfo[\"BS\"].nunique()"
   ]
  },
  {
   "cell_type": "code",
   "execution_count": null,
   "metadata": {},
   "outputs": [],
   "source": [
    "test[\"BS\"].nunique()"
   ]
  },
  {
   "cell_type": "code",
   "execution_count": null,
   "metadata": {},
   "outputs": [],
   "source": [
    "CLdata[\"BS\"].nunique()"
   ]
  },
  {
   "cell_type": "code",
   "execution_count": null,
   "metadata": {},
   "outputs": [],
   "source": [
    "BSinfo.nunique()"
   ]
  },
  {
   "cell_type": "code",
   "execution_count": null,
   "metadata": {},
   "outputs": [],
   "source": [
    "test.nunique()"
   ]
  },
  {
   "cell_type": "code",
   "execution_count": null,
   "metadata": {},
   "outputs": [],
   "source": [
    "# df_3 =pd.merge(BSinfo  ,df_1 , how = 'left' , on= \"BS\")"
   ]
  },
  {
   "cell_type": "code",
   "execution_count": null,
   "metadata": {},
   "outputs": [],
   "source": [
    "# df_3 =pd.merge(BSinfo  ,df_1 , how = 'left' , on= \"BS\")\n",
    "# df_3.info()"
   ]
  },
  {
   "cell_type": "code",
   "execution_count": null,
   "metadata": {},
   "outputs": [],
   "source": [
    "BSinfo[\"BS_CEELL\"].nunique()"
   ]
  },
  {
   "cell_type": "code",
   "execution_count": null,
   "metadata": {},
   "outputs": [],
   "source": [
    "CLdata[\"BS_CEELL\"].nunique()"
   ]
  },
  {
   "cell_type": "code",
   "execution_count": null,
   "metadata": {},
   "outputs": [],
   "source": [
    "#df_1 =pd.merge(BSinfo  ,CLdata , how = 'left' , on= \"BS_CEELL\")"
   ]
  },
  {
   "cell_type": "code",
   "execution_count": 4,
   "metadata": {},
   "outputs": [
    {
     "name": "stderr",
     "output_type": "stream",
     "text": [
      "C:\\Users\\Lenovo\\Anaconda3\\lib\\site-packages\\ipykernel_launcher.py:14: FutureWarning: Series.dt.weekofyear and Series.dt.week have been deprecated.  Please use Series.dt.isocalendar().week instead.\n",
      "  \n"
     ]
    }
   ],
   "source": [
    "CLdata = CLdata.sort_values('Time').reset_index(drop=True)\n",
    "ECdata = ECdata.sort_values('Time').reset_index(drop=True)\n",
    "test = test.sort_values('Time').reset_index(drop=True)\n",
    "for dataset in (CLdata,test,ECdata):\n",
    "    dataset['Date'] = pd.to_datetime(dataset['Time'])\n",
    "#     dataset['Day'] = dataset.Date.dt.day\n",
    "#     dataset['Month'] = dataset.Date.dt.month\n",
    "#     dataset['Year'] = dataset.Date.dt.year\n",
    "    dataset['Hour'] = dataset.Date.dt.hour\n",
    "    dataset['Minute'] = dataset.Date.dt.minute\n",
    "    dataset['Seconds'] = dataset.Date.dt.second\n",
    "#     dataset['DayOfWeek'] = dataset.Datetime.dt.dayofweek\n",
    "#     dataset['DayOfYear'] = dataset.Datetime.dt.dayofyear\n",
    "    dataset['Week'] = dataset.Date.dt.weekofyear\n",
    "#     dataset.set_index('Datetime', inplace=True)\n"
   ]
  },
  {
   "cell_type": "code",
   "execution_count": null,
   "metadata": {},
   "outputs": [],
   "source": []
  },
  {
   "cell_type": "code",
   "execution_count": 5,
   "metadata": {},
   "outputs": [],
   "source": [
    "ECdata[\"Date_BS\"]=ECdata['Date'].apply(str)+\"_\"+ECdata['BS'].apply(str)"
   ]
  },
  {
   "cell_type": "code",
   "execution_count": null,
   "metadata": {},
   "outputs": [],
   "source": [
    "ECdata[\"Date_BS\"].nunique()"
   ]
  },
  {
   "cell_type": "code",
   "execution_count": 6,
   "metadata": {},
   "outputs": [],
   "source": [
    "CLdata[\"Date_BS\"]=CLdata['Date'].apply(str)+\"_\"+CLdata['BS'].apply(str)"
   ]
  },
  {
   "cell_type": "code",
   "execution_count": null,
   "metadata": {},
   "outputs": [],
   "source": [
    "CLdata[\"Date_BS\"].nunique()"
   ]
  },
  {
   "cell_type": "code",
   "execution_count": 7,
   "metadata": {},
   "outputs": [],
   "source": [
    "test[\"Date_BS\"]=test['Date'].apply(str)+\"_\"+test['BS'].apply(str)"
   ]
  },
  {
   "cell_type": "code",
   "execution_count": null,
   "metadata": {},
   "outputs": [],
   "source": [
    "test[\"Date_BS\"].nunique()"
   ]
  },
  {
   "cell_type": "code",
   "execution_count": null,
   "metadata": {},
   "outputs": [],
   "source": [
    "test.info()"
   ]
  },
  {
   "cell_type": "code",
   "execution_count": null,
   "metadata": {},
   "outputs": [],
   "source": [
    "# mask = CLdata[[\"BS_Time\"].isin(ECdata[\"BS_Time\"].unique())\n",
    "# print(mask)"
   ]
  },
  {
   "cell_type": "code",
   "execution_count": null,
   "metadata": {},
   "outputs": [],
   "source": [
    "# CLdata.drop(['Time','BS','Date' ] ,axis=1 , inplace = True)\n",
    "# test.drop(['Time','BS','Date','w','Energy'] ,axis=1 , inplace = True)"
   ]
  },
  {
   "cell_type": "code",
   "execution_count": 8,
   "metadata": {},
   "outputs": [],
   "source": [
    "df_1 =pd.merge(test ,CLdata , how = 'left' , on= \"Date_BS\")"
   ]
  },
  {
   "cell_type": "code",
   "execution_count": 9,
   "metadata": {},
   "outputs": [],
   "source": [
    "df_2 =pd.merge(ECdata  ,CLdata , how = 'left' , on= \"Date_BS\")"
   ]
  },
  {
   "cell_type": "code",
   "execution_count": null,
   "metadata": {},
   "outputs": [],
   "source": [
    "df_2.info()"
   ]
  },
  {
   "cell_type": "code",
   "execution_count": null,
   "metadata": {},
   "outputs": [],
   "source": [
    "df_1.info()"
   ]
  },
  {
   "cell_type": "code",
   "execution_count": 10,
   "metadata": {},
   "outputs": [],
   "source": [
    "df_1.rename(columns={'BS_y' :'BS' ,'Hour_y' :'Hour', 'Date_y' :'Date'}, inplace=True)\n",
    "df_2.rename(columns={'BS_y' :'BS','Hour_y' :'Hour', 'Date_y' :'Date'  }, inplace=True)"
   ]
  },
  {
   "cell_type": "code",
   "execution_count": 11,
   "metadata": {},
   "outputs": [],
   "source": [
    "#Aggregations\n",
    "#1_Mean_loadPerBS\n",
    "df_1['Mean_loadPerBS'] = df_1['BS'].map(dict(df_1.groupby('BS')['load'].mean()))\n",
    "#1_sd_loadPerBS \n",
    "df_1['sd_loadPerBS'] = df_1['BS'].map(dict(df_1.groupby('BS')['load'].std()))\n",
    "#1_Mean_Emode6 PerBS\n",
    "df_1['Mean_ESMode6PerBS'] = df_1['BS'].map(dict(df_1.groupby('BS')['ESMode6'].mean()))\n",
    "#1_sd_loadPerBS \n",
    "df_1['sd_ESMode6PerBS'] = df_1['BS'].map(dict(df_1.groupby('BS')['ESMode6'].std()))\n",
    "#1_Mean_Emode6 PerBS\n",
    "df_1['Mean_ESMode2PerBS'] = df_1['BS'].map(dict(df_1.groupby('BS')['ESMode2'].mean()))\n",
    "#1_sd_loadPerBS \n",
    "df_1['sd_ESMode2PerBS'] = df_1['BS'].map(dict(df_1.groupby('BS')['ESMode2'].std()))\n",
    "################################\n",
    "df_2['Mean_loadPerBS'] = df_2['BS'].map(dict(df_2.groupby('BS')['load'].mean()))\n",
    "#1_sd_loadPerBS \n",
    "df_2['sd_loadPerBS'] = df_2['BS'].map(dict(df_2.groupby('BS')['load'].std()))\n",
    "#1_Mean_Emode6 PerBS\n",
    "df_2['Mean_ESMode6PerBS'] = df_2['BS'].map(dict(df_2.groupby('BS')['ESMode6'].mean()))\n",
    "#1_sd_loadPerBS \n",
    "df_2['sd_ESMode6PerBS'] = df_2['BS'].map(dict(df_2.groupby('BS')['ESMode6'].std()))\n",
    "#1_Mean_Emode6 PerBS\n",
    "df_2['Mean_ESMode2PerBS'] = df_2['BS'].map(dict(df_2.groupby('BS')['ESMode2'].mean()))\n",
    "#1_sd_loadPerBS \n",
    "df_2['sd_ESMode2PerBS'] = df_2['BS'].map(dict(df_2.groupby('BS')['ESMode2'].std()))"
   ]
  },
  {
   "cell_type": "code",
   "execution_count": null,
   "metadata": {},
   "outputs": [],
   "source": [
    "Nan+.001"
   ]
  },
  {
   "cell_type": "code",
   "execution_count": null,
   "metadata": {},
   "outputs": [],
   "source": []
  },
  {
   "cell_type": "code",
   "execution_count": null,
   "metadata": {},
   "outputs": [],
   "source": [
    "# feat_1=\"BS\"\n",
    "# for dataset in df_1:\n",
    "# #     dataset[f'{Feature}_Agg_{feat_1}_mean'] = dataset[feat_1].map(dict(df_1.groupby(feat_1)[Feature].mean()))\n",
    "#     #dataset[f'{Feature}_Agg_{feat_1}_median'] = dataset[feat_1].map(dict(train_df.groupby(feat_1)[Feature].median()))\n",
    "#     dataset[f'{Feature}_Agg_{feat_1}_std'] = dataset[feat_1].map(dict(df_1.groupby(feat_1)['load'].std()))\n",
    "#     dataset[f'{Feature}_Agg_{feat_1}_min'] = dataset[feat_1].map(dict(df_1.groupby(feat_1)['load'].min()))\n",
    "#     dataset[f'{Feature}_Agg_{feat_1}_max'] = dataset[feat_1].map(dict(df_1.groupby(feat_1)['load'].max()))\n",
    "#     dataset[f'{Feature}_Agg_{feat_1}_sum'] = dataset[feat_1].map(dict(df_1.groupby(feat_1)['load'].sum()))\n",
    "#     dataset[f'{Feature}_Agg_{feat_1}_range'] = dataset[f'{Feature}_Agg_{feat_1}_max'] - dataset[f'{Feature}_Agg_{feat_1}_min']\n",
    "#     #dataset[f'{Feature}_Agg_{feat_1}_var'] = dataset[feat_1].map(dict(train_df.groupby(feat_1)[Feature].var()))\n",
    "    \n",
    "\n",
    "# #     for dataset in df_2:\n",
    "# #         dataset[f'{Feature}_Agg_{feat_1}_mean'] = dataset[feat_2].map(dict(df_2.groupby(feat_1)[Feature].mean()))\n",
    "# #         #dataset[f'{Feature}_Agg_{feat_1}_median'] = dataset[feat_1].map(dict(df_2.groupby(feat_1)[Feature].median()))\n",
    "# #         dataset[f'{Feature}_Agg_{feat_1}_std'] = dataset[feat_1].map(dict(df_2.groupby(feat_1)[Feature].std()))\n",
    "# #         dataset[f'{Feature}_Agg_{feat_1}_min'] = dataset[feat_1].map(dict(df_2.groupby(feat_1)[Feature].min()))\n",
    "# #         dataset[f'{Feature}_Agg_{feat_1}_max'] = dataset[feat_1].map(dict(df_2.groupby(feat_1)[Feature].max()))\n",
    "# #         dataset[f'{Feature}_Agg_{feat_1}_sum'] = dataset[feat_1].map(dict(df_2.groupby(feat_1)[Feature].sum()))\n",
    "# #         dataset[f'{Feature}_Agg_{feat_1}_range'] = dataset[f'{Feature}_Agg_{feat_1}_max'] - dataset[f'{Feature}_Agg_{feat_1}_min']\n",
    "# #          #dataset[f'{Feature}_Agg_{feat_1}_var'] = dataset[feat_1].map(dict(train_df.groupby(feat_1)[Feature].var()))\n",
    "        \n",
    "            \n",
    "         \n",
    "\n",
    "#          #gg('load')\n",
    "# # Agg('ESMode2')\n",
    "# # Agg('ESMode6')"
   ]
  },
  {
   "cell_type": "code",
   "execution_count": null,
   "metadata": {},
   "outputs": [],
   "source": [
    "sns.countplot( x='Hour', data=df_1, hue=\"w\", palette=\"Set1\");"
   ]
  },
  {
   "cell_type": "code",
   "execution_count": null,
   "metadata": {},
   "outputs": [],
   "source": [
    "sns.countplot( x='CellName', data=df_1, hue=\"w\", palette=\"Set1\");"
   ]
  },
  {
   "cell_type": "code",
   "execution_count": null,
   "metadata": {},
   "outputs": [],
   "source": [
    "sns.countplot( x='BS_x', data=df_1, hue=\"w\", palette=\"Set1\");"
   ]
  },
  {
   "cell_type": "code",
   "execution_count": null,
   "metadata": {},
   "outputs": [],
   "source": [
    "df_1.info()"
   ]
  },
  {
   "cell_type": "code",
   "execution_count": null,
   "metadata": {},
   "outputs": [],
   "source": [
    "df_1.columns"
   ]
  },
  {
   "cell_type": "code",
   "execution_count": 12,
   "metadata": {},
   "outputs": [],
   "source": [
    "df_1.drop(['Time_x', 'BS_x', 'Energy', 'w', 'Date_x', 'Hour_x', 'Minute_x',\n",
    "       'Seconds_x', 'Week_x','Time_y', \n",
    "          'ESMode1','ESMode3', 'ESMode4', 'ESMode5', 'Minute_y', 'Seconds_y', 'Week_y'],axis=1 , inplace = True)\n"
   ]
  },
  {
   "cell_type": "code",
   "execution_count": null,
   "metadata": {},
   "outputs": [],
   "source": [
    "df_2.columns"
   ]
  },
  {
   "cell_type": "code",
   "execution_count": 13,
   "metadata": {},
   "outputs": [],
   "source": [
    "df_2.drop(['Time_x', 'BS_x',  'Date_x', 'Hour_x', 'Minute_x',\n",
    "       'Seconds_x', 'Week_x','Time_y','ESMode1','ESMode3', 'ESMode4', 'ESMode5', 'Minute_y', 'Seconds_y', 'Week_y'],axis=1 , inplace = True)\n"
   ]
  },
  {
   "cell_type": "markdown",
   "metadata": {},
   "source": [
    "## it nessaserialy to do not drop Date_ BS at this time"
   ]
  },
  {
   "cell_type": "code",
   "execution_count": null,
   "metadata": {},
   "outputs": [],
   "source": [
    "df_1.info()\n"
   ]
  },
  {
   "cell_type": "code",
   "execution_count": null,
   "metadata": {},
   "outputs": [],
   "source": [
    "# df_1.rename(columns={'Hour_y' :'Hour' }, inplace=True)\n",
    "# df_2.rename(columns={'Hour_y' :'Hour'  }, inplace=True)"
   ]
  },
  {
   "cell_type": "code",
   "execution_count": null,
   "metadata": {},
   "outputs": [],
   "source": [
    "df_1.info()"
   ]
  },
  {
   "cell_type": "code",
   "execution_count": null,
   "metadata": {},
   "outputs": [],
   "source": [
    "df_1.drop_duplicates(inplace=True)"
   ]
  },
  {
   "cell_type": "code",
   "execution_count": null,
   "metadata": {},
   "outputs": [],
   "source": [
    "df_1.info()"
   ]
  },
  {
   "cell_type": "code",
   "execution_count": null,
   "metadata": {},
   "outputs": [],
   "source": [
    "# def rolling(feature):\n",
    "#     for dataset in (df_1,df_2):\n",
    "#         dataset['Mean_loadPerBS_Rolling_3'] = dataset[feature].rolling(3).mean()\n",
    "#         dataset['sd_loadPerBS_Rolling_5'] = dataset[feature].rolling(5).mean()\n",
    "\n",
    "#         dataset[f\"{feature}_rolling_mean_60\"] = dataset[feature].rolling(120).mean()\n",
    "#         dataset[f\"{feature}_rolling_sd_60\"] = dataset[feature].rolling(120).std()\n",
    "#         dataset[f\"{feature}_rolling_sum_60\"] = dataset[feature].rolling(120).sum()\n",
    "\n",
    "#         dataset[f\"{feature}_rolling_mean_30\"] = dataset[feature].rolling(30).mean()\n",
    "#         dataset[f\"{feature}_rolling_sd_30\"] = dataset[feature].rolling(30).std()\n",
    "#         dataset[f\"{feature}_rolling_sum_30\"] = dataset[feature].rolling(30).sum()\n",
    "\n",
    "#         dataset[f\"{feature}_rolling_mean_10\"] = dataset[feature].rolling(18).mean()\n",
    "#         dataset[f\"{feature}_rolling_max_10\"] = dataset[feature].rolling(18).std()\n",
    "#         dataset[f\"{feature}_rolling_sum_10\"] = dataset[feature].rolling(18).sum()\n",
    "\n",
    "# rolling('Mean_loadPerBS')\n",
    "# rolling('sd_ESMode6PerBS')"
   ]
  },
  {
   "cell_type": "code",
   "execution_count": null,
   "metadata": {},
   "outputs": [],
   "source": [
    "def rolling(feature):\n",
    "    for dataset in (df_1,df_2):\n",
    "        dataset['Mean_loadPerBS_Rolling_3'] = dataset[feature].rolling(3).mean()\n",
    "        dataset['sd_loadPerBS_Rolling_5'] = dataset[feature].rolling(5).mean()\n",
    "\n",
    "        dataset[f\"{feature}_rolling_mean_60\"] = dataset[feature].rolling(60).mean()\n",
    "        dataset[f\"{feature}_rolling_sd_60\"] = dataset[feature].rolling(60).std()\n",
    "        dataset[f\"{feature}_rolling_sum_60\"] = dataset[feature].rolling(60).sum()\n",
    "\n",
    "        dataset[f\"{feature}_rolling_mean_30\"] = dataset[feature].rolling(30).mean()\n",
    "        dataset[f\"{feature}_rolling_sd_30\"] = dataset[feature].rolling(30).std()\n",
    "        dataset[f\"{feature}_rolling_sum_30\"] = dataset[feature].rolling(30).sum()\n",
    "\n",
    "        dataset[f\"{feature}_rolling_mean_10\"] = dataset[feature].rolling(10).mean()\n",
    "        dataset[f\"{feature}_rolling_max_10\"] = dataset[feature].rolling(10).std()\n",
    "        dataset[f\"{feature}_rolling_sum_10\"] = dataset[feature].rolling(10).sum()\n",
    "\n",
    "rolling('Mean_loadPerBS')\n",
    "rolling('sd_loadPerBS')"
   ]
  },
  {
   "cell_type": "code",
   "execution_count": null,
   "metadata": {},
   "outputs": [],
   "source": [
    "def MeanSd(feature1, feature2):\n",
    "    for dataset in (df_1,df_2):\n",
    "        dataset[\"SD-E6load\"] = dataset[[feature1,feature2]].std(axis=1)\n",
    "        dataset[\"MEAN_E6load\"] = dataset[[feature1,feature2]].mean(axis=1)\n",
    "\n",
    "MeanSd('sd_ESMode6PerBS','Mean_loadPerBS')"
   ]
  },
  {
   "cell_type": "code",
   "execution_count": null,
   "metadata": {},
   "outputs": [],
   "source": [
    " def MeanSd(feature1, feature2):\n",
    "    for dataset in (df_1,df_2):\n",
    "        dataset[\"TOP_PLus\"] = dataset[feature1]+dataset[feature2]\n",
    "        dataset[\"TOP_Minus\"] = dataset[feature1]-dataset[feature2]\n",
    "        dataset[\"TOP_mult\"] = dataset[feature1]*dataset[feature2]\n",
    "#         dataset[\"TOP_div\"] = dataset[feature1]/dataset[feature2]+0.001\n",
    "\n",
    "MeanSd('Mean_loadPerBS','sd_ESMode6PerBS')"
   ]
  },
  {
   "cell_type": "code",
   "execution_count": null,
   "metadata": {},
   "outputs": [],
   "source": [
    "for dataset in (df_1,df_2):\n",
    "    dataset['DayOfWeek'] = dataset.Date.dt.dayofweek\n",
    "    dataset['Day'] = dataset.Date.dt.day\n",
    "    dataset['Week'] = dataset.Date.dt.day\n",
    "    dataset['Week_Day_Hour'] = dataset['DayOfWeek'].astype(str) + '-' + dataset['Hour'].astype(str)\n",
    "    dataset['Day_Hour']  =  dataset['Day'].astype(str) + '-' + dataset['Hour'].astype(str)\n",
    "    dataset['Week_Hour']  =  dataset['Week'].astype(str) + '-' + dataset['Hour'].astype(str)\n",
    "    dataset['BS_Hour']  =  dataset['BS'].astype(str) + '-' + dataset['Hour'].astype(str)\n",
    "    "
   ]
  },
  {
   "cell_type": "code",
   "execution_count": null,
   "metadata": {},
   "outputs": [],
   "source": [
    "df_1.info()"
   ]
  },
  {
   "cell_type": "code",
   "execution_count": null,
   "metadata": {},
   "outputs": [],
   "source": [
    "df_2.info()"
   ]
  },
  {
   "cell_type": "code",
   "execution_count": null,
   "metadata": {},
   "outputs": [],
   "source": [
    "df_1.describe()"
   ]
  },
  {
   "cell_type": "code",
   "execution_count": null,
   "metadata": {},
   "outputs": [],
   "source": [
    "df_2.describe()"
   ]
  },
  {
   "cell_type": "code",
   "execution_count": null,
   "metadata": {},
   "outputs": [],
   "source": [
    "df_1.hist()"
   ]
  },
  {
   "cell_type": "code",
   "execution_count": null,
   "metadata": {},
   "outputs": [],
   "source": [
    "df_1.hist()"
   ]
  },
  {
   "cell_type": "code",
   "execution_count": null,
   "metadata": {},
   "outputs": [],
   "source": [
    "# df_1[\"Mean_loadPerBS\"] = np.log(df_1[\"Mean_loadPerBS\"]+0.001)\n",
    "# df_1[\"Mean_ESMode6PerBS\"] = np.log(df_1[\"Mean_ESMode6PerBS\"]+0.001)\n",
    "# df_1[\"Mean_ESMode2PerBS\"] = np.log(df_1[\"Mean_ESMode2PerBS\"]+0.001)\n",
    "# df_1[\"sd_loadPerBS\"] = np.log(df_1[\"sd_loadPerBS\"]+0.001)\n",
    "# df_1[\"sd_ESMode6PerBS\"] = np.log(df_1[\"sd_ESMode6PerBS\"]+0.001)\n",
    "# df_1[\"sd_ESMode2PerBS\"] = np.log(df_1[\"sd_ESMode2PerBS\"]+0.001)\n",
    "# ###################\n",
    "# df_2[\"Mean_loadPerBS\"] = np.log(df_2[\"Mean_loadPerBS\"]+0.001)\n",
    "# df_2[\"Mean_ESMode6PerBS\"] = np.log(df_2[\"Mean_ESMode6PerBS\"]+0.001)\n",
    "# df_2[\"Mean_ESMode2PerBS\"] = np.log(df_2[\"Mean_ESMode2PerBS\"]+0.001)\n",
    "# df_2[\"sd_loadPerBS\"] = np.log(df_2[\"sd_loadPerBS\"]+0.001)\n",
    "# df_2[\"sd_ESMode6PerBS\"] = np.log(df_2[\"sd_ESMode6PerBS\"]+0.001)\n",
    "# df_2[\"sd_ESMode2PerBS\"] = np.log(df_2[\"sd_ESMode2PerBS\"]+0.001)"
   ]
  },
  {
   "cell_type": "code",
   "execution_count": null,
   "metadata": {},
   "outputs": [],
   "source": [
    "df_1.hist(figsize = (20, 25))"
   ]
  },
  {
   "cell_type": "code",
   "execution_count": null,
   "metadata": {},
   "outputs": [],
   "source": [
    "# attributes = [\"Mean_ESMode6PerBS\", \"Mean_ESMode2PerBS\"]\n",
    "# sns.pairplot(df_2.reset_index(drop=True)[attributes], diag_kind=\"kde\")\n",
    "# plt.gcf().set_size_inches(15, 10)"
   ]
  },
  {
   "cell_type": "markdown",
   "metadata": {},
   "source": [
    "# Outliers"
   ]
  },
  {
   "cell_type": "code",
   "execution_count": null,
   "metadata": {},
   "outputs": [],
   "source": [
    "# z_scores = stats.zscore(train_df['Fare'])\n",
    "# absolute_z_score = np.abs(z_scores)\n",
    "# is_outlier = absolute_z_score >= 2\n",
    "\n",
    "# for x in range(0,train_df['Fare'].size):\n",
    "#     if (is_outlier[x] == True ):\n",
    "#         train_df.drop(axis=1, index=x,inplace=True)"
   ]
  },
  {
   "cell_type": "code",
   "execution_count": null,
   "metadata": {},
   "outputs": [],
   "source": [
    "# df_3 =pd.merge(BSinfo ,df_1 , how = 'left' , on= \"BS_CEELL\")\n"
   ]
  },
  {
   "cell_type": "code",
   "execution_count": null,
   "metadata": {},
   "outputs": [],
   "source": [
    "# df_3.info()"
   ]
  },
  {
   "cell_type": "code",
   "execution_count": null,
   "metadata": {},
   "outputs": [],
   "source": [
    "# df_4 =pd.merge(BSinfo ,test , how = 'left' , on= \"BS\")\n"
   ]
  },
  {
   "cell_type": "code",
   "execution_count": null,
   "metadata": {},
   "outputs": [],
   "source": [
    "# df_4 .info()"
   ]
  },
  {
   "cell_type": "code",
   "execution_count": null,
   "metadata": {},
   "outputs": [],
   "source": [
    "# df_4[\"BS_CEELL\"]=df_4[\"BS\"].apply(str)+\"_\"+df_4['CellName'].apply(str)"
   ]
  },
  {
   "cell_type": "code",
   "execution_count": null,
   "metadata": {},
   "outputs": [],
   "source": [
    "# df_4[\"BS_CEELL\"].nunique()"
   ]
  },
  {
   "cell_type": "code",
   "execution_count": null,
   "metadata": {},
   "outputs": [],
   "source": [
    "# df_5 =pd.merge(df_1 ,df_4 , how = 'left' , on= \"BS_CEELL\")"
   ]
  },
  {
   "cell_type": "code",
   "execution_count": null,
   "metadata": {},
   "outputs": [],
   "source": [
    "# df_5.info()"
   ]
  },
  {
   "cell_type": "code",
   "execution_count": null,
   "metadata": {},
   "outputs": [],
   "source": [
    "# df_1.drop(['Time_x', 'BS_x', 'Energy', 'w', 'Date_x', 'Hour_x', 'Minute_x',\n",
    "#        'Seconds_x', 'Week_x', 'Time_y','ESMode1', 'ESMode3', 'ESMode4','ESMode5',],axis=1 , inplace = True)\n"
   ]
  },
  {
   "cell_type": "code",
   "execution_count": null,
   "metadata": {},
   "outputs": [],
   "source": [
    "df_1.info()"
   ]
  },
  {
   "cell_type": "code",
   "execution_count": null,
   "metadata": {},
   "outputs": [],
   "source": [
    "# df_2.drop(['Time_x', 'BS_x','Date_x', 'Hour_x', 'Minute_x',\n",
    "#        'Seconds_x', 'Week_x','Time_y','ESMode1', 'ESMode3','ESMode4', 'ESMode5',] ,axis=1 , inplace = True)"
   ]
  },
  {
   "cell_type": "code",
   "execution_count": null,
   "metadata": {},
   "outputs": [],
   "source": [
    "df_1.hist(figsize=(20,15))"
   ]
  },
  {
   "cell_type": "code",
   "execution_count": null,
   "metadata": {},
   "outputs": [],
   "source": [
    "df_2.hist(figsize=(20,15))"
   ]
  },
  {
   "cell_type": "code",
   "execution_count": null,
   "metadata": {},
   "outputs": [],
   "source": [
    "# df_1.drop_duplicates(inplace=True)"
   ]
  },
  {
   "cell_type": "code",
   "execution_count": null,
   "metadata": {},
   "outputs": [],
   "source": [
    "df_1.info()"
   ]
  },
  {
   "cell_type": "code",
   "execution_count": null,
   "metadata": {},
   "outputs": [],
   "source": [
    "df_2['Day']"
   ]
  },
  {
   "cell_type": "code",
   "execution_count": null,
   "metadata": {},
   "outputs": [],
   "source": [
    "# df_1[\"BS_C_H\"]=df_1[\"BS\"].apply(str)+\"_\"+df_1['CellName'].apply(str)+\"_\"+df_1['Hour'].apply(str)\n",
    "# df_2[\"BS_C_H\"]=df_2[\"BS\"].apply(str)+\"_\"+df_2['CellName'].apply(str)+\"_\"+df_2['Hour'].apply(str)"
   ]
  },
  {
   "cell_type": "code",
   "execution_count": null,
   "metadata": {},
   "outputs": [],
   "source": [
    "df_2['Day'].hist()"
   ]
  },
  {
   "cell_type": "code",
   "execution_count": null,
   "metadata": {},
   "outputs": [],
   "source": [
    "df_2['Hour'].hist()"
   ]
  },
  {
   "cell_type": "code",
   "execution_count": null,
   "metadata": {},
   "outputs": [],
   "source": [
    "from statsmodels.graphics.tsaplots import plot_acf\n",
    "from matplotlib import rcParams\n",
    "\n",
    "rcParams[\"figure.figsize\"] = 10, 8\n",
    "fig = plot_acf(df_2['Mean_ESMode6PerBS'].ffill(), lags=60)\n",
    "\n",
    "plt.title(\"Autocorrelation\")\n",
    "plt.ylabel(\"Correlation\")\n",
    "plt.xlabel(\"Lag at k\")\n",
    "plt.show();\n"
   ]
  },
  {
   "cell_type": "code",
   "execution_count": null,
   "metadata": {},
   "outputs": [],
   "source": [
    "# from statsmodels.graphics.tsaplots import plot_acf\n",
    "# from matplotlib import rcParams\n",
    "\n",
    "# rcParams[\"figure.figsize\"] = 15, 12\n",
    "# fig = plot_acf(df_2['load'].ffill(), lags=60)\n",
    "\n",
    "# plt.title(\"Autocorrelation\")\n",
    "# plt.ylabel(\"Correlation\")\n",
    "# plt.xlabel(\"Lag at k\")\n",
    "# plt.show();\n"
   ]
  },
  {
   "cell_type": "markdown",
   "metadata": {},
   "source": [
    "### The is a relation between lag 1 & 18"
   ]
  },
  {
   "cell_type": "code",
   "execution_count": null,
   "metadata": {},
   "outputs": [],
   "source": [
    "# # for dataset in (df_2,test):\n",
    "# #     dataset['load_LagN3'] =  dataset['load'].shift(18)\n",
    "# df_1['load_LagN3'] =  df_1['load'].shift(18)\n",
    "# df_2['load_LagN3'] =  df_2['load'].shift(18)"
   ]
  },
  {
   "cell_type": "code",
   "execution_count": null,
   "metadata": {},
   "outputs": [],
   "source": [
    "# #ESMode6\n",
    "# from statsmodels.graphics.tsaplots import plot_acf\n",
    "# from matplotlib import rcParams\n",
    "\n",
    "# rcParams[\"figure.figsize\"] = 10, 8\n",
    "# fig = plot_acf(df_2['ESMode6'].ffill(), lags=60)\n",
    "\n",
    "# plt.title(\"Autocorrelation\")\n",
    "# plt.ylabel(\"Correlation\")\n",
    "# plt.xlabel(\"Lag at k\")\n",
    "# plt.show();\n"
   ]
  },
  {
   "cell_type": "markdown",
   "metadata": {},
   "source": [
    "### The is a relation between lag 1 & 2"
   ]
  },
  {
   "cell_type": "code",
   "execution_count": null,
   "metadata": {},
   "outputs": [],
   "source": [
    "# # for dataset in (df_2,test):\n",
    "# #     dataset['ESMode6_LagN3'] =  dataset['ESMode6'].shift(-2)\n",
    "# df_1['ESMode6_LagN2'] =  df_1['ESMode6'].shift(-2)\n",
    "# df_2['ESMode6_LagN2'] =  df_2['ESMode6'].shift(-2)"
   ]
  },
  {
   "cell_type": "code",
   "execution_count": null,
   "metadata": {},
   "outputs": [],
   "source": [
    "df_2.describe()"
   ]
  },
  {
   "cell_type": "code",
   "execution_count": null,
   "metadata": {},
   "outputs": [],
   "source": [
    "# df_1['ESMode6_LagN2']=df_1['ESMode6_LagN2'].ffill()\n",
    "# df_2['ESMode6_LagN2']=df_2['ESMode6_LagN2'].ffill()"
   ]
  },
  {
   "cell_type": "code",
   "execution_count": null,
   "metadata": {},
   "outputs": [],
   "source": [
    "# df_1['load_LagN3']=df_1['load_LagN3'].bfill()\n",
    "# df_2['load_LagN3']=df_2['load_LagN3'].bfill()"
   ]
  },
  {
   "cell_type": "code",
   "execution_count": null,
   "metadata": {},
   "outputs": [],
   "source": [
    "df_2.describe()"
   ]
  },
  {
   "cell_type": "code",
   "execution_count": null,
   "metadata": {},
   "outputs": [],
   "source": [
    "from statsmodels.graphics.tsaplots import plot_acf\n",
    "from matplotlib import rcParams\n",
    "\n",
    "rcParams[\"figure.figsize\"] = 10, 8\n",
    "fig = plot_acf(df_2['Mean_ESMode2PerBS'].ffill(), lags=30)\n",
    "\n",
    "plt.title(\"Autocorrelation\")\n",
    "plt.ylabel(\"Correlation\")\n",
    "plt.xlabel(\"Lag at k\")\n",
    "plt.show();\n"
   ]
  },
  {
   "cell_type": "code",
   "execution_count": null,
   "metadata": {},
   "outputs": [],
   "source": [
    "#df_2['DayOfWeek']\n",
    "from statsmodels.graphics.tsaplots import plot_acf\n",
    "from matplotlib import rcParams\n",
    "\n",
    "rcParams[\"figure.figsize\"] = 10, 8\n",
    "fig = plot_acf(df_2['Mean_ESMode6PerBS'] .ffill(), lags=60)\n",
    "\n",
    "plt.title(\"Autocorrelation\")\n",
    "plt.ylabel(\"Correlation\")\n",
    "plt.xlabel(\"Lag at k\")\n",
    "plt.show();\n"
   ]
  },
  {
   "cell_type": "code",
   "execution_count": null,
   "metadata": {},
   "outputs": [],
   "source": [
    "# #df_2['Month'] \n",
    "# from statsmodels.graphics.tsaplots import plot_acf\n",
    "# from matplotlib import rcParams\n",
    "\n",
    "# rcParams[\"figure.figsize\"] = 10, 8\n",
    "# fig = plot_acf(df_2['Month'] .ffill(), lags=30)\n",
    "\n",
    "# plt.title(\"Autocorrelation\")\n",
    "# plt.ylabel(\"Correlation\")\n",
    "# plt.xlabel(\"Lag at k\")\n",
    "# plt.show();\n"
   ]
  },
  {
   "cell_type": "code",
   "execution_count": null,
   "metadata": {},
   "outputs": [],
   "source": [
    "# #df_2['Week']\n",
    "# from statsmodels.graphics.tsaplots import plot_acf\n",
    "# from matplotlib import rcParams\n",
    "\n",
    "# rcParams[\"figure.figsize\"] = 10, 8\n",
    "# fig = plot_acf(df_2['Week'].ffill(), lags=60)\n",
    "\n",
    "# plt.title(\"Autocorrelation\")\n",
    "# plt.ylabel(\"Correlation\")\n",
    "# plt.xlabel(\"Lag at k\")\n",
    "# plt.show();\n"
   ]
  },
  {
   "cell_type": "code",
   "execution_count": null,
   "metadata": {},
   "outputs": [],
   "source": [
    "# from statsmodels.graphics.tsaplots import plot_acf\n",
    "# from matplotlib import rcParams\n",
    "\n",
    "# rcParams[\"figure.figsize\"] = 10, 8\n",
    "# fig = plot_acf(df_2['Day'].ffill(), lags=60)\n",
    "\n",
    "# plt.title(\"Autocorrelation\")\n",
    "# plt.ylabel(\"Correlation\")\n",
    "# plt.xlabel(\"Lag at k\")\n",
    "# plt.show();\n"
   ]
  },
  {
   "cell_type": "code",
   "execution_count": null,
   "metadata": {},
   "outputs": [],
   "source": [
    "df_2['Datetime']"
   ]
  },
  {
   "cell_type": "code",
   "execution_count": null,
   "metadata": {},
   "outputs": [],
   "source": [
    "#def MeanSd(feature1, feature2):\n",
    "#    for dataset in (train_df,test_data):\n",
    "#        dataset[\"SD_I_O\"] = dataset[[feature1,feature2]].std(axis=1)\n",
    "#        dataset[\"MEAN_I_O\"] = dataset[[feature1,feature2]].mean(axis=1)\n",
    "\n",
    "#MeanSd(\"portPktOut\", \"portPktIn\")"
   ]
  },
  {
   "cell_type": "code",
   "execution_count": null,
   "metadata": {},
   "outputs": [],
   "source": [
    "#\"BS_C_H\"\n",
    "df_2.columns"
   ]
  },
  {
   "cell_type": "code",
   "execution_count": 14,
   "metadata": {},
   "outputs": [],
   "source": [
    "ID = df_1['Date_BS']"
   ]
  },
  {
   "cell_type": "code",
   "execution_count": null,
   "metadata": {},
   "outputs": [],
   "source": [
    "df_1.drop(['Date'] ,axis=1 , inplace = True)\n",
    "df_2.drop(['Date'] ,axis=1 , inplace = True)"
   ]
  },
  {
   "cell_type": "code",
   "execution_count": 16,
   "metadata": {},
   "outputs": [],
   "source": [
    "df_1.drop(['Date' ,'Date_BS' ],axis=1 , inplace = True)\n",
    "df_2.drop(['Date','Date_BS'] ,axis=1 , inplace = True)"
   ]
  },
  {
   "cell_type": "code",
   "execution_count": null,
   "metadata": {},
   "outputs": [],
   "source": [
    "df_1.drop(['Date' ,'Date_BS','Day','DayOfWeek','Week'] ,axis=1 , inplace = True)\n",
    "df_2.drop(['Date','Date_BS','Day','DayOfWeek', 'Week'] ,axis=1 , inplace = True)"
   ]
  },
  {
   "cell_type": "code",
   "execution_count": null,
   "metadata": {},
   "outputs": [],
   "source": [
    "df_1.drop('Week' ,axis=1 , inplace = True)\n",
    "df_2.drop('Week' ,axis=1 , inplace = True)"
   ]
  },
  {
   "cell_type": "code",
   "execution_count": 17,
   "metadata": {},
   "outputs": [
    {
     "data": {
      "text/plain": [
       "Index(['BS', 'CellName', 'load', 'ESMode2', 'ESMode6', 'Hour',\n",
       "       'Mean_loadPerBS', 'sd_loadPerBS', 'Mean_ESMode6PerBS',\n",
       "       'sd_ESMode6PerBS', 'Mean_ESMode2PerBS', 'sd_ESMode2PerBS'],\n",
       "      dtype='object')"
      ]
     },
     "execution_count": 17,
     "metadata": {},
     "output_type": "execute_result"
    }
   ],
   "source": [
    "df_1.columns"
   ]
  },
  {
   "cell_type": "code",
   "execution_count": 18,
   "metadata": {},
   "outputs": [
    {
     "name": "stdout",
     "output_type": "stream",
     "text": [
      "<class 'pandas.core.frame.DataFrame'>\n",
      "Int64Index: 98084 entries, 0 to 98083\n",
      "Data columns (total 13 columns):\n",
      " #   Column             Non-Null Count  Dtype  \n",
      "---  ------             --------------  -----  \n",
      " 0   Energy             98084 non-null  float64\n",
      " 1   BS                 98084 non-null  object \n",
      " 2   CellName           98084 non-null  object \n",
      " 3   load               98084 non-null  float64\n",
      " 4   ESMode2            98084 non-null  float64\n",
      " 5   ESMode6            98084 non-null  float64\n",
      " 6   Hour               98084 non-null  int64  \n",
      " 7   Mean_loadPerBS     98084 non-null  float64\n",
      " 8   sd_loadPerBS       98082 non-null  float64\n",
      " 9   Mean_ESMode6PerBS  98084 non-null  float64\n",
      " 10  sd_ESMode6PerBS    98082 non-null  float64\n",
      " 11  Mean_ESMode2PerBS  98084 non-null  float64\n",
      " 12  sd_ESMode2PerBS    98082 non-null  float64\n",
      "dtypes: float64(10), int64(1), object(2)\n",
      "memory usage: 10.5+ MB\n"
     ]
    }
   ],
   "source": [
    "df_2.info()"
   ]
  },
  {
   "cell_type": "code",
   "execution_count": 19,
   "metadata": {},
   "outputs": [],
   "source": [
    "#fill missing values of 'Fare' with the median\n",
    "# feats =[\"sd_loadPerBS\",\"sd_ESMode6PerBS\",\"sd_ESMode2PerBS\",'Mean_loadPerBS_Rolling_3','sd_loadPerBS_Rolling_5','Mean_loadPerBS_rolling_mean_60','Mean_loadPerBS_rolling_max_60',\n",
    "#         'Mean_loadPerBS_rolling_min_60','Mean_loadPerBS_rolling_mean_30','Mean_loadPerBS_rolling_max_30',\n",
    "#         'Mean_loadPerBS_rolling_min_30','Mean_loadPerBS_rolling_mean_10','Mean_loadPerBS_rolling_max_10',\n",
    "#         'Mean_loadPerBS_rolling_min_10','sd_loadPerBS_rolling_mean_60','sd_loadPerBS_rolling_max_60',\n",
    "#         'sd_loadPerBS_rolling_min_60','sd_loadPerBS_rolling_mean_30','sd_loadPerBS_rolling_max_30',\n",
    "#         'sd_loadPerBS_rolling_min_30','sd_loadPerBS_rolling_mean_10','sd_loadPerBS_rolling_max_10',\n",
    "#         'sd_loadPerBS_rolling_min_10'  ]\n",
    "# feats=df_1.columns\n",
    "feats =[ 'load', 'ESMode2', 'ESMode6', 'Hour',\n",
    "       'Mean_loadPerBS', 'sd_loadPerBS', 'Mean_ESMode6PerBS',\n",
    "       'sd_ESMode6PerBS', 'Mean_ESMode2PerBS', 'sd_ESMode2PerBS']\n",
    "df = pd.concat([df_1,df_2])\n",
    "# median = df[\"Age\"].median() \n",
    "for d in feats:\n",
    "    median = df[d].median()\n",
    "    for dataset in [df_1,df_2]:\n",
    "        dataset[d] = dataset[d].fillna(median)\n",
    "# median1 = df[\"sd_loadPerBS\"].median()\n",
    "# median2 = df[\"sd_ESMode6PerBS\"].median()\n",
    "# median3 = df[\"sd_ESMode2PerBS\"].median()\n",
    "# median4 = df[\"var_loadPerBS\"].median()\n",
    "# median5 = df[\"var_ESMode6PerBS\"].median()\n",
    "#median6 = df[\"sd_ESMode2PerBS\"].median()\n",
    "    \n",
    "# for dataset in [df_1,df_2]:\n",
    "#     dataset[\"sd_loadPerBS\"] = dataset[\"sd_loadPerBS\"].fillna(median1)\n",
    "#     dataset[\"sd_ESMode6PerBS\"] = dataset[\"sd_ESMode6PerBS\"].fillna(median2)\n",
    "#     dataset[\"sd_ESMode2PerBS\"] = dataset[\"sd_ESMode2PerBS\"].fillna(median3)\n",
    "#     dataset[\"var_loadPerBS\"] = dataset[\"var_loadPerBS\"].fillna(median4)\n",
    "#     dataset[\"var_ESMode6PerBS\"] = dataset[\"var_ESMode6PerBS\"].fillna(median5)"
   ]
  },
  {
   "cell_type": "code",
   "execution_count": null,
   "metadata": {},
   "outputs": [],
   "source": []
  },
  {
   "cell_type": "code",
   "execution_count": 20,
   "metadata": {},
   "outputs": [
    {
     "name": "stdout",
     "output_type": "stream",
     "text": [
      "<class 'pandas.core.frame.DataFrame'>\n",
      "Int64Index: 27491 entries, 0 to 27490\n",
      "Data columns (total 12 columns):\n",
      " #   Column             Non-Null Count  Dtype  \n",
      "---  ------             --------------  -----  \n",
      " 0   BS                 27491 non-null  object \n",
      " 1   CellName           27491 non-null  object \n",
      " 2   load               27491 non-null  float64\n",
      " 3   ESMode2            27491 non-null  float64\n",
      " 4   ESMode6            27491 non-null  float64\n",
      " 5   Hour               27491 non-null  int64  \n",
      " 6   Mean_loadPerBS     27491 non-null  float64\n",
      " 7   sd_loadPerBS       27491 non-null  float64\n",
      " 8   Mean_ESMode6PerBS  27491 non-null  float64\n",
      " 9   sd_ESMode6PerBS    27491 non-null  float64\n",
      " 10  Mean_ESMode2PerBS  27491 non-null  float64\n",
      " 11  sd_ESMode2PerBS    27491 non-null  float64\n",
      "dtypes: float64(9), int64(1), object(2)\n",
      "memory usage: 2.7+ MB\n"
     ]
    }
   ],
   "source": [
    "df_1.info()"
   ]
  },
  {
   "cell_type": "code",
   "execution_count": null,
   "metadata": {},
   "outputs": [],
   "source": [
    "df_2.info()"
   ]
  },
  {
   "cell_type": "code",
   "execution_count": null,
   "metadata": {},
   "outputs": [],
   "source": [
    "# attributes = [\"Mean_loadPerBS\", \"Mean_ESMode6PerBS\"]\n",
    "# sns.pairplot(df_2.reset_index(drop=True)[attributes], diag_kind=\"kde\")\n",
    "# plt.gcf().set_size_inches(15, 10)"
   ]
  },
  {
   "cell_type": "code",
   "execution_count": null,
   "metadata": {},
   "outputs": [],
   "source": [
    "# df_1[\"Date_BS\"]=df_1['Date_y'].apply(str)+\"_\"+df_1['BS'].apply(str)"
   ]
  },
  {
   "cell_type": "code",
   "execution_count": null,
   "metadata": {},
   "outputs": [],
   "source": [
    "# ID=df_1[\"Date_BS\"]"
   ]
  },
  {
   "cell_type": "code",
   "execution_count": null,
   "metadata": {},
   "outputs": [],
   "source": [
    "feats = ['BS','Day_Hour', 'Week_Hour', 'BS_Hour','Week_Day_Hour' ]\n",
    "le = LabelEncoder()\n",
    "df = pd.concat([df_1,df_2])\n",
    "for f in feats:\n",
    "    le.fit(df[f])\n",
    "    df_1[f] = le.transform(df_1[f])\n",
    "    df_2[f] = le.transform(df_2[f])"
   ]
  },
  {
   "cell_type": "code",
   "execution_count": null,
   "metadata": {},
   "outputs": [],
   "source": [
    "#'Date_BS', 'BS'\n",
    "feats = ['Date_BS', 'BS']\n",
    "le = LabelEncoder()\n",
    "df = pd.concat([df_1,df_2])\n",
    "for f in feats:\n",
    "    le.fit(df[f])\n",
    "    df_1[f] = le.transform(df_1[f])\n",
    "    df_2[f] = le.transform(df_2[f])"
   ]
  },
  {
   "cell_type": "code",
   "execution_count": 21,
   "metadata": {},
   "outputs": [],
   "source": [
    "#'Date_BS', 'BS'\n",
    "feats = ['CellName', 'BS']\n",
    "le = LabelEncoder()\n",
    "df = pd.concat([df_1,df_2])\n",
    "for f in feats:\n",
    "    le.fit(df[f])\n",
    "    df_1[f] = le.transform(df_1[f])\n",
    "    df_2[f] = le.transform(df_2[f])"
   ]
  },
  {
   "cell_type": "code",
   "execution_count": null,
   "metadata": {},
   "outputs": [],
   "source": [
    "df_1.info()"
   ]
  },
  {
   "cell_type": "code",
   "execution_count": null,
   "metadata": {},
   "outputs": [],
   "source": [
    "# ID = test_data['ID']\n",
    "# #train_df.drop('ID',inplace=True,axis=1)##act has no id\n",
    "# X_Test=test_data.drop(['ID', 'time'],axis=1)"
   ]
  },
  {
   "cell_type": "code",
   "execution_count": null,
   "metadata": {},
   "outputs": [],
   "source": [
    "df_1"
   ]
  },
  {
   "cell_type": "code",
   "execution_count": null,
   "metadata": {},
   "outputs": [],
   "source": [
    "df_2.describe()"
   ]
  },
  {
   "cell_type": "code",
   "execution_count": 22,
   "metadata": {},
   "outputs": [],
   "source": [
    "X = df_2.drop('Energy', axis=1).values\n",
    "y = df_2['Energy'].copy().values"
   ]
  },
  {
   "cell_type": "code",
   "execution_count": null,
   "metadata": {},
   "outputs": [],
   "source": [
    "# X_Train, X_Test, y_Train, y_Test = train_test_split(X, y, test_size=0.2, random_state=42)"
   ]
  },
  {
   "cell_type": "code",
   "execution_count": null,
   "metadata": {},
   "outputs": [],
   "source": [
    "# y.astype('float64')"
   ]
  },
  {
   "cell_type": "code",
   "execution_count": 23,
   "metadata": {},
   "outputs": [
    {
     "name": "stdout",
     "output_type": "stream",
     "text": [
      "TRAIN: [    0     1     2 ... 32693 32694 32695] TEST: [32696 32697 32698 ... 65387 65388 65389]\n",
      "[LightGBM] [Warning] Accuracy may be bad since you didn't explicitly set num_leaves OR 2^max_depth > num_leaves. (num_leaves=31).\n",
      "[LightGBM] [Warning] Accuracy may be bad since you didn't explicitly set num_leaves OR 2^max_depth > num_leaves. (num_leaves=31).\n",
      "[LightGBM] [Info] Total Bins 2353\n",
      "[LightGBM] [Info] Number of data points in the train set: 32696, number of used features: 12\n",
      "[LightGBM] [Info] Start training from score 30.233234\n"
     ]
    },
    {
     "name": "stderr",
     "output_type": "stream",
     "text": [
      "C:\\Users\\Lenovo\\Anaconda3\\lib\\site-packages\\joblib\\externals\\loky\\backend\\context.py:152: UserWarning: Could not find the number of physical cores for the following reason:\n",
      "__init__() got an unexpected keyword argument 'capture_output'\n",
      "Returning the number of logical cores instead. You can silence this warning by setting LOKY_MAX_CPU_COUNT to the number of cores you want to use.\n",
      "  \"following reason:\\n\" + str(exception) + \"\\n\"\n",
      "  File \"C:\\Users\\Lenovo\\Anaconda3\\lib\\site-packages\\joblib\\externals\\loky\\backend\\context.py\", line 229, in _count_physical_cores\n",
      "    capture_output=True)\n",
      "  File \"C:\\Users\\Lenovo\\Anaconda3\\lib\\subprocess.py\", line 403, in run\n",
      "    with Popen(*popenargs, **kwargs) as process:\n"
     ]
    },
    {
     "name": "stdout",
     "output_type": "stream",
     "text": [
      "[LightGBM] [Warning] No further splits with positive gain, best gain: -inf\n",
      "[LightGBM] [Warning] No further splits with positive gain, best gain: -inf\n",
      "[LightGBM] [Warning] Accuracy may be bad since you didn't explicitly set num_leaves OR 2^max_depth > num_leaves. (num_leaves=31).\n",
      "TRAIN: [    0     1     2 ... 65387 65388 65389] TEST: [65390 65391 65392 ... 98081 98082 98083]\n",
      "[LightGBM] [Warning] Accuracy may be bad since you didn't explicitly set num_leaves OR 2^max_depth > num_leaves. (num_leaves=31).\n",
      "[LightGBM] [Warning] Accuracy may be bad since you didn't explicitly set num_leaves OR 2^max_depth > num_leaves. (num_leaves=31).\n",
      "[LightGBM] [Info] Total Bins 2357\n",
      "[LightGBM] [Info] Number of data points in the train set: 65390, number of used features: 12\n",
      "[LightGBM] [Info] Start training from score 29.391363\n",
      "[LightGBM] [Warning] Accuracy may be bad since you didn't explicitly set num_leaves OR 2^max_depth > num_leaves. (num_leaves=31).\n",
      "\n",
      "Mean: 3.1622902233179944 \n",
      "STD:  0.07579026273317879\n"
     ]
    }
   ],
   "source": [
    "# X_Train, X_Test, y_Train, y_Test = train_test_split(X, y, test_size=0.2, random_state=42)\n",
    "##\n",
    "from lightgbm import LGBMRegressor\n",
    "lgbm =LGBMRegressor(max_depth=7,force_row_wise=True, random_state=42)\n",
    "from sklearn.model_selection import TimeSeriesSplit\n",
    "from sklearn.metrics import mean_absolute_error\n",
    "tscv = TimeSeriesSplit(n_splits=2)   #We chose 2 splits because the test set is half the number of training set\n",
    "scores = []\n",
    "for train_index, test_index in tscv.split(X):\n",
    "    print(\"TRAIN:\", train_index, \"TEST:\", test_index)\n",
    "    X_Train, X_Test = X[train_index], X[test_index]\n",
    "    y_Train, y_Test = y[train_index], y[test_index]\n",
    "    lgbm.fit(X_Train,y_Train)\n",
    "    y_pred = lgbm.predict(X_Test)\n",
    "    scores.append(mean_absolute_error(y_pred,y_Test))\n",
    "print(\"\\nMean:\",np.mean(scores),\"\\nSTD: \", np.std(scores))\n"
   ]
  },
  {
   "cell_type": "code",
   "execution_count": null,
   "metadata": {},
   "outputs": [],
   "source": [
    "##\n",
    "from sklearn.ensemble import RandomForestRegressor\n",
    "RFRegressor = RandomForestRegressor(n_estimators =10 ,criterion='mae',random_state=42)\n",
    "from sklearn.model_selection import TimeSeriesSplit\n",
    "from sklearn.metrics import mean_absolute_error\n",
    "tscv = TimeSeriesSplit(n_splits=4)   #We chose 2 splits because the test set is half the number of training set\n",
    "scores = []\n",
    "for train_index, test_index in tscv.split(X):\n",
    "    print(\"TRAIN:\", train_index, \"TEST:\", test_index)\n",
    "    X_Train, X_Test = X[train_index], X[test_index]\n",
    "    y_Train, y_Test = y[train_index], y[test_index]\n",
    "    RFRegressor.fit(X_Train,y_Train)\n",
    "    y_pred = RFRegressor.predict(X_Test)\n",
    "    scores.append(mean_absolute_error(y_pred,y_Test))\n",
    "print(\"\\nMean:\",np.mean(scores),\"\\nSTD: \", np.std(scores))"
   ]
  },
  {
   "cell_type": "code",
   "execution_count": null,
   "metadata": {},
   "outputs": [],
   "source": [
    "#y_Train.astype(float64)"
   ]
  },
  {
   "cell_type": "code",
   "execution_count": null,
   "metadata": {},
   "outputs": [],
   "source": [
    "# Fitting SVR to the dataset\n",
    "from sklearn.svm import SVR\n",
    "SVRregressor = SVR(kernel = 'linear')\n",
    "from sklearn.model_selection import TimeSeriesSplit\n",
    "from sklearn.metrics import mean_absolute_error\n",
    "tscv = TimeSeriesSplit(n_splits=2)   #We chose 2 splits because the test set is half the number of training set\n",
    "scores = []\n",
    "for train_index, test_index in tscv.split(X):\n",
    "    print(\"TRAIN:\", train_index, \"TEST:\", test_index)\n",
    "    X_Train, X_Test = X[train_index], X[test_index]\n",
    "    y_Train, y_Test = y[train_index], y[test_index]\n",
    "    SVRregressor.fit(X_Train,y_Train) \n",
    "    SVR_pred = SVRregressor.predict(X_Test)\n",
    "    scores.append(mean_absolute_error(SVR_pred,y_Test))\n",
    "print(\"\\nMean:\",np.mean(scores),\"\\nSTD: \", np.std(scores))"
   ]
  },
  {
   "cell_type": "code",
   "execution_count": null,
   "metadata": {},
   "outputs": [],
   "source": [
    "# Fitting Multiple Linear Regression to the Training set\n",
    "from sklearn.linear_model import LinearRegression\n",
    "Lregressor = LinearRegression()\n",
    "from sklearn.model_selection import TimeSeriesSplit\n",
    "from sklearn.metrics import mean_absolute_error\n",
    "tscv = TimeSeriesSplit(n_splits=2)   #We chose 2 splits because the test set is half the number of training set\n",
    "scores = []\n",
    "for train_index, test_index in tscv.split(X):\n",
    "    print(\"TRAIN:\", train_index, \"TEST:\", test_index)\n",
    "    X_Train, X_Test = X[train_index], X[test_index]\n",
    "    y_Train, y_Test = y[train_index], y[test_index]\n",
    "    Lregressor.fit(X_Train,y_Train)\n",
    "    LR_pred = Lregressor.predict(X_Test)\n",
    "    scores.append(mean_absolute_error(LR_pred,y_Test))\n",
    "print(\"\\nMean:\",np.mean(scores),\"\\nSTD: \", np.std(scores))"
   ]
  },
  {
   "cell_type": "code",
   "execution_count": null,
   "metadata": {},
   "outputs": [],
   "source": [
    "# Fitting Multiple XGBRegressor to the Training set\n",
    "from xgboost import XGBRegressor\n",
    "XGBRegressor = XGBRegressor(max_depth=7,n_estimators =10)#what HPno matter what change\n",
    "from sklearn.model_selection import TimeSeriesSplit\n",
    "from sklearn.metrics import mean_absolute_error\n",
    "tscv = TimeSeriesSplit(n_splits=2)   #We chose 2 splits because the test set is half the number of training set\n",
    "scores = []\n",
    "for train_index, test_index in tscv.split(X):\n",
    "    print(\"TRAIN:\", train_index, \"TEST:\", test_index)\n",
    "    X_Train, X_Test = X[train_index], X[test_index]\n",
    "    y_Train, y_Test = y[train_index], y[test_index]\n",
    "    XGBRegressor.fit(X_Train,y_Train)\n",
    "    XGB_pred = XGBRegressor.predict(X_Test)\n",
    "    scores.append(mean_absolute_error(XGB_pred,y_Test))\n",
    "print(\"\\nMean:\",np.mean(scores),\"\\nSTD: \", np.std(scores))"
   ]
  },
  {
   "cell_type": "code",
   "execution_count": null,
   "metadata": {},
   "outputs": [],
   "source": []
  },
  {
   "cell_type": "code",
   "execution_count": null,
   "metadata": {},
   "outputs": [],
   "source": [
    "# # Adding the input layer and the first hidden layer\n",
    "# classifier.add(Dense(units=6,input_shape=[X_train.shape[1]], activation = 'relu',kernel_initializer='random_uniform',use_bias=True,bias_initializer='zeros', kernel_regularizer=None, bias_regularizer=None, activity_regularizer=None, kernel_constraint=None, bias_constraint=None, input_dim = 11))\n",
    "\n",
    "# # Adding the second hidden layer\n",
    "# classifier.add(Dense(units=6,  activation = 'relu',kernel_initializer='random_uniform',use_bias=True,bias_initializer='zeros', kernel_regularizer=None, bias_regularizer=None, activity_regularizer=None, kernel_constraint=None, bias_constraint=None))\n",
    "\n",
    "# # Adding the output layer\n",
    "# classifier.add(Dense(units= 1, activation = 'sigmoid'))\n",
    "\n",
    "# # Compiling the ANN\n",
    "# classifier.compile(optimizer = 'adam', loss = 'mae', metrics = ['mae '])\n"
   ]
  },
  {
   "cell_type": "code",
   "execution_count": null,
   "metadata": {},
   "outputs": [],
   "source": [
    "# # Feature Scaling\n",
    "# from sklearn.preprocessing import StandardScaler\n",
    "# sc = StandardScaler()\n",
    "# X_Train = sc.fit_transform(X)\n",
    "# X_Test_sc= sc.transform(X_Test)"
   ]
  },
  {
   "cell_type": "code",
   "execution_count": null,
   "metadata": {},
   "outputs": [],
   "source": [
    "# from lightgbm import LGBMRegressor\n",
    "# lgbm =LGBMRegressor(max_depth=7,force_row_wise=True, random_state=42)\n",
    "# lgbm.fit(X_Train,y_Train)\n",
    "# y_pred = lgbm.predict(X_Test)"
   ]
  },
  {
   "cell_type": "code",
   "execution_count": null,
   "metadata": {},
   "outputs": [],
   "source": [
    "# from sklearn.metrics import mean_absolute_error\n",
    "# mean_absolute_error(y_Test ,y_pred)"
   ]
  },
  {
   "cell_type": "code",
   "execution_count": null,
   "metadata": {},
   "outputs": [],
   "source": [
    "# #Train The model on the  crossval set\n",
    "# from sklearn.ensemble import RandomForestRegressor\n",
    "# RFRegrosor = RandomForestRegressor(n_estimators =10 ,criterion='mae',random_state=42)\n",
    "# RFRegrosor.fit(X_Train,y_Train)\n",
    "# # Predicting the crossval set results\n",
    "# preds = RFRegrosor.predict(X_Test)"
   ]
  },
  {
   "cell_type": "code",
   "execution_count": null,
   "metadata": {},
   "outputs": [],
   "source": [
    "# from sklearn.metrics import mean_absolute_error\n",
    "# mean_absolute_error(y_Test ,preds)"
   ]
  },
  {
   "cell_type": "code",
   "execution_count": null,
   "metadata": {},
   "outputs": [],
   "source": [
    "# score1 = RFRegrosor.score(X_Train,y_Train)\n",
    "# score2 = RFRegrosor.score(X_Test, y_Test)#score1 = clf2.score(X_Train,y_Train)\n",
    "\n",
    "# print(\"Train_Accuracy for RFRegrosor: {}\".format(score1))#print(score1)\n",
    "# print(\"Test_Accuracy for RFRegrosor: {}\".format(score2))#print(score2)"
   ]
  },
  {
   "cell_type": "code",
   "execution_count": 24,
   "metadata": {},
   "outputs": [],
   "source": [
    "#Plot the Model Features Importances\n",
    "def plotImp(model, X , num = 20, fig_size = (40, 20)):\n",
    "    feature_imp = pd.DataFrame({'Value':model.feature_importances_,'Feature':X.columns})\n",
    "    plt.figure(figsize=fig_size)\n",
    "    sns.set(font_scale = 5)\n",
    "    sns.barplot(x=\"Value\", y=\"Feature\", data=feature_imp.sort_values(by=\"Value\",\n",
    "                                                        ascending=False)[0:num])\n",
    "    plt.title(str(model)+' Features (avg over folds)')\n",
    "    plt.tight_layout()\n",
    "    plt.savefig('lgbm_importances-01.png')\n",
    "    plt.show()"
   ]
  },
  {
   "cell_type": "code",
   "execution_count": null,
   "metadata": {},
   "outputs": [],
   "source": [
    "plotImp(RFRegressor,df_2.drop('Energy', axis=1))"
   ]
  },
  {
   "cell_type": "code",
   "execution_count": 25,
   "metadata": {},
   "outputs": [
    {
     "data": {
      "image/png": "[encoded data removed]",
      "text/plain": [
       "<Figure size 2880x1440 with 1 Axes>"
      ]
     },
     "metadata": {},
     "output_type": "display_data"
    }
   ],
   "source": [
    "#lgbm.fit(train_df.drop('Offset_fault',axis=1),train_df['Offset_fault'])\n",
    "plotImp(lgbm,df_2.drop('Energy', axis=1))"
   ]
  },
  {
   "cell_type": "code",
   "execution_count": null,
   "metadata": {},
   "outputs": [],
   "source": [
    "plotImp(SVRregressor,df_2.drop('Energy', axis=1))"
   ]
  },
  {
   "cell_type": "code",
   "execution_count": null,
   "metadata": {},
   "outputs": [],
   "source": [
    "plotImp(XGBRegressor,df_2.drop('Energy', axis=1))"
   ]
  },
  {
   "cell_type": "code",
   "execution_count": null,
   "metadata": {},
   "outputs": [],
   "source": [
    "#!pip3 install --upgrade pandas"
   ]
  },
  {
   "cell_type": "code",
   "execution_count": null,
   "metadata": {},
   "outputs": [],
   "source": [
    "df_1['Date']"
   ]
  },
  {
   "cell_type": "code",
   "execution_count": null,
   "metadata": {},
   "outputs": [],
   "source": [
    "# X = df_2.drop('Energy', axis=1)\n",
    "# y = df_2['Energy'].copy()\n",
    "RFRegressor.fit(X,y)\n",
    "preds = RFRegressor.predict(df_1)"
   ]
  },
  {
   "cell_type": "code",
   "execution_count": 26,
   "metadata": {},
   "outputs": [
    {
     "name": "stdout",
     "output_type": "stream",
     "text": [
      "[LightGBM] [Warning] Accuracy may be bad since you didn't explicitly set num_leaves OR 2^max_depth > num_leaves. (num_leaves=31).\n",
      "[LightGBM] [Warning] Accuracy may be bad since you didn't explicitly set num_leaves OR 2^max_depth > num_leaves. (num_leaves=31).\n",
      "[LightGBM] [Info] Total Bins 2362\n",
      "[LightGBM] [Info] Number of data points in the train set: 98084, number of used features: 12\n",
      "[LightGBM] [Info] Start training from score 28.986888\n",
      "[LightGBM] [Warning] Accuracy may be bad since you didn't explicitly set num_leaves OR 2^max_depth > num_leaves. (num_leaves=31).\n"
     ]
    }
   ],
   "source": [
    "# from lightgbm import LGBMRegressor\n",
    "# lgbm =LGBMRegressor(max_depth=7,force_row_wise=True, random_state=42)\n",
    "lgbm.fit(X,y)\n",
    "y_pred = lgbm.predict(df_1)"
   ]
  },
  {
   "cell_type": "code",
   "execution_count": null,
   "metadata": {},
   "outputs": [],
   "source": [
    "score = lgbm.score(X,y)\n",
    "print(score)"
   ]
  },
  {
   "cell_type": "code",
   "execution_count": null,
   "metadata": {},
   "outputs": [],
   "source": [
    "#SVR\n",
    "SVRregressor.fit(X, y)\n",
    "SVR_pred = SVRregressor.predict(df_1)"
   ]
  },
  {
   "cell_type": "code",
   "execution_count": null,
   "metadata": {},
   "outputs": [],
   "source": [
    "Lregressor.fit(X, y)\n",
    "SVR_pred = SVRregressor.predict(df_1)"
   ]
  },
  {
   "cell_type": "code",
   "execution_count": null,
   "metadata": {},
   "outputs": [],
   "source": [
    "XGBRegressor.fit(X,y)\n",
    "XGB_pred = XGBRegressor.predict(df_1)"
   ]
  },
  {
   "cell_type": "code",
   "execution_count": null,
   "metadata": {},
   "outputs": [],
   "source": [
    "#Make the Submission file XGB_pred\n",
    "submission = pd.DataFrame({\"ID\": ID ,\"Target\": XGB_pred})\n",
    "submission.to_csv('XGB_rolling.csv',index=False)"
   ]
  },
  {
   "cell_type": "code",
   "execution_count": 27,
   "metadata": {},
   "outputs": [],
   "source": [
    "#Make the Submission file \n",
    "submission = pd.DataFrame({\"ID\": ID ,\"Target\": y_pred})\n",
    "submission.to_csv('lgbm_mainbase.csv',index=False)"
   ]
  },
  {
   "cell_type": "code",
   "execution_count": null,
   "metadata": {},
   "outputs": [],
   "source": [
    "#Make the Submission file\n",
    "submission = pd.DataFrame({\"ID\": ID ,\"Target\": preds})\n",
    "submission.to_csv('RF_base_n4e10&DB.csv',index=False)"
   ]
  },
  {
   "cell_type": "code",
   "execution_count": null,
   "metadata": {},
   "outputs": [],
   "source": [
    "score1 = RFRegressor.score(X,y)\n",
    "print(score1 )"
   ]
  },
  {
   "cell_type": "code",
   "execution_count": null,
   "metadata": {},
   "outputs": [],
   "source": [
    "submission['Target'] .unique()"
   ]
  },
  {
   "cell_type": "code",
   "execution_count": null,
   "metadata": {},
   "outputs": [],
   "source": [
    "submission"
   ]
  },
  {
   "cell_type": "code",
   "execution_count": null,
   "metadata": {},
   "outputs": [],
   "source": [
    "submission.to_csv('Baseline2.csv',index=False)"
   ]
  },
  {
   "cell_type": "code",
   "execution_count": null,
   "metadata": {},
   "outputs": [],
   "source": []
  }
 ],
 "metadata": {
  "kernelspec": {
   "display_name": "Python 3",
   "language": "python",
   "name": "python3"
  },
  "language_info": {
   "codemirror_mode": {
    "name": "ipython",
    "version": 3
   },
   "file_extension": ".py",
   "mimetype": "text/x-python",
   "name": "python",
   "nbconvert_exporter": "python",
   "pygments_lexer": "ipython3",
   "version": "3.6.5"
  }
 },
 "nbformat": 4,
 "nbformat_minor": 2
}
