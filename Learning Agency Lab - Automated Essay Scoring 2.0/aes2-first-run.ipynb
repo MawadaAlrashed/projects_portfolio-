{
 "cells": [
  {
   "cell_type": "code",
   "execution_count": 1,
   "id": "4b4e170c",
   "metadata": {
    "_cell_guid": "b1076dfc-b9ad-4769-8c92-a6c4dae69d19",
    "_uuid": "8f2839f25d086af736a60e9eeb907d3b93b6e0e5",
    "execution": {
     "iopub.execute_input": "2024-06-20T21:36:15.555319Z",
     "iopub.status.busy": "2024-06-20T21:36:15.554952Z",
     "iopub.status.idle": "2024-06-20T21:36:16.423846Z",
     "shell.execute_reply": "2024-06-20T21:36:16.422766Z"
    },
    "papermill": {
     "duration": 0.877148,
     "end_time": "2024-06-20T21:36:16.425992",
     "exception": false,
     "start_time": "2024-06-20T21:36:15.548844",
     "status": "completed"
    },
    "tags": []
   },
   "outputs": [
    {
     "name": "stdout",
     "output_type": "stream",
     "text": [
      "/kaggle/input/weighted-average-pool/output.log\n",
      "/kaggle/input/weighted-average-pool/output/oof_df.csv\n",
      "/kaggle/input/weighted-average-pool/output/microsoft_deberta-v3-base_fold_1_best.pth\n",
      "/kaggle/input/weighted-average-pool/output/microsoft_deberta-v3-base_fold_4_best.pth\n",
      "/kaggle/input/weighted-average-pool/output/config.pth\n",
      "/kaggle/input/weighted-average-pool/output/microsoft_deberta-v3-base_fold_3_best.pth\n",
      "/kaggle/input/weighted-average-pool/output/microsoft_deberta-v3-base_fold_2_best.pth\n",
      "/kaggle/input/weighted-average-pool/output/microsoft_deberta-v3-base_fold_0_best.pth\n",
      "/kaggle/input/weighted-average-pool/output/tokenizer/spm.model\n",
      "/kaggle/input/weighted-average-pool/output/tokenizer/tokenizer.json\n",
      "/kaggle/input/weighted-average-pool/output/tokenizer/tokenizer_config.json\n",
      "/kaggle/input/weighted-average-pool/output/tokenizer/special_tokens_map.json\n",
      "/kaggle/input/weighted-average-pool/output/tokenizer/added_tokens.json\n",
      "/kaggle/input/first-run-v1/output.log\n",
      "/kaggle/input/first-run-v1/output/oof_df.csv\n",
      "/kaggle/input/first-run-v1/output/microsoft_deberta-v3-base_fold_1_best.pth\n",
      "/kaggle/input/first-run-v1/output/microsoft_deberta-v3-base_fold_4_best.pth\n",
      "/kaggle/input/first-run-v1/output/config.pth\n",
      "/kaggle/input/first-run-v1/output/microsoft_deberta-v3-base_fold_3_best.pth\n",
      "/kaggle/input/first-run-v1/output/microsoft_deberta-v3-base_fold_2_best.pth\n",
      "/kaggle/input/first-run-v1/output/microsoft_deberta-v3-base_fold_0_best.pth\n",
      "/kaggle/input/first-run-v1/output/tokenizer/spm.model\n",
      "/kaggle/input/first-run-v1/output/tokenizer/tokenizer.json\n",
      "/kaggle/input/first-run-v1/output/tokenizer/tokenizer_config.json\n",
      "/kaggle/input/first-run-v1/output/tokenizer/special_tokens_map.json\n",
      "/kaggle/input/first-run-v1/output/tokenizer/added_tokens.json\n",
      "/kaggle/input/learning-agency-lab-automated-essay-scoring-2/sample_submission.csv\n",
      "/kaggle/input/learning-agency-lab-automated-essay-scoring-2/train.csv\n",
      "/kaggle/input/learning-agency-lab-automated-essay-scoring-2/test.csv\n"
     ]
    }
   ],
   "source": [
    "# This Python 3 environment comes with many helpful analytics libraries installed\n",
    "# It is defined by the kaggle/python Docker image: https://github.com/kaggle/docker-python\n",
    "# For example, here's several helpful packages to load\n",
    "\n",
    "import numpy as np # linear algebra\n",
    "import pandas as pd # data processing, CSV file I/O (e.g. pd.read_csv)\n",
    "\n",
    "# Input data files are available in the read-only \"../input/\" directory\n",
    "# For example, running this (by clicking run or pressing Shift+Enter) will list all files under the input directory\n",
    "\n",
    "import os\n",
    "for dirname, _, filenames in os.walk('/kaggle/input'):\n",
    "    for filename in filenames:\n",
    "        print(os.path.join(dirname, filename))\n",
    "\n",
    "# You can write up to 20GB to the current directory (/kaggle/working/) that gets preserved as output when you create a version using \"Save & Run All\" \n",
    "# You can also write temporary files to /kaggle/temp/, but they won't be saved outside of the current session"
   ]
  },
  {
   "cell_type": "markdown",
   "id": "7244a215",
   "metadata": {
    "papermill": {
     "duration": 0.005214,
     "end_time": "2024-06-20T21:36:16.435947",
     "exception": false,
     "start_time": "2024-06-20T21:36:16.430733",
     "status": "completed"
    },
    "tags": []
   },
   "source": []
  },
  {
   "cell_type": "code",
   "execution_count": 2,
   "id": "11793427",
   "metadata": {
    "execution": {
     "iopub.execute_input": "2024-06-20T21:36:16.445933Z",
     "iopub.status.busy": "2024-06-20T21:36:16.445513Z",
     "iopub.status.idle": "2024-06-20T21:36:22.469209Z",
     "shell.execute_reply": "2024-06-20T21:36:22.468138Z"
    },
    "papermill": {
     "duration": 6.031433,
     "end_time": "2024-06-20T21:36:22.471715",
     "exception": false,
     "start_time": "2024-06-20T21:36:16.440282",
     "status": "completed"
    },
    "tags": []
   },
   "outputs": [
    {
     "name": "stdout",
     "output_type": "stream",
     "text": [
      "Current device is: cuda\n"
     ]
    }
   ],
   "source": [
    "import ast\n",
    "import copy\n",
    "import gc\n",
    "import itertools\n",
    "import joblib\n",
    "import json\n",
    "import math\n",
    "import matplotlib.pyplot as plt\n",
    "import multiprocessing\n",
    "import numpy as np\n",
    "import os\n",
    "import pandas as pd\n",
    "import pickle\n",
    "import random\n",
    "import re\n",
    "import scipy as sp\n",
    "import string\n",
    "import sys\n",
    "import time\n",
    "import torch\n",
    "import torch.nn as nn\n",
    "import warnings\n",
    "from sklearn.metrics import cohen_kappa_score\n",
    "from torch.nn import Parameter\n",
    "from torch.utils.data import DataLoader, Dataset\n",
    "from tqdm.auto import tqdm\n",
    "# ======= OPTIONS =========\n",
    "pd.set_option('display.max_rows', 500)\n",
    "pd.set_option('display.max_columns', 500)\n",
    "pd.set_option('display.width', 1000)\n",
    "device = torch.device('cuda' if torch.cuda.is_available() else 'cpu')\n",
    "print(f\"Current device is: {device}\")\n",
    "warnings.filterwarnings(\"ignore\")\n",
    "!mkdir output"
   ]
  },
  {
   "cell_type": "code",
   "execution_count": 3,
   "id": "31ee3b39",
   "metadata": {
    "execution": {
     "iopub.execute_input": "2024-06-20T21:36:22.482922Z",
     "iopub.status.busy": "2024-06-20T21:36:22.482280Z",
     "iopub.status.idle": "2024-06-20T21:36:24.703004Z",
     "shell.execute_reply": "2024-06-20T21:36:24.701943Z"
    },
    "papermill": {
     "duration": 2.228682,
     "end_time": "2024-06-20T21:36:24.705195",
     "exception": false,
     "start_time": "2024-06-20T21:36:22.476513",
     "status": "completed"
    },
    "tags": []
   },
   "outputs": [
    {
     "name": "stdout",
     "output_type": "stream",
     "text": [
      "env: TOKENIZERS_PARALLELISM=true\n",
      "tokenizers.__version__: 0.15.2\n",
      "transformers.__version__: 4.39.3\n"
     ]
    }
   ],
   "source": [
    "import tokenizers\n",
    "import transformers\n",
    "from transformers import AutoTokenizer, AutoModel, AutoConfig\n",
    "from transformers import get_linear_schedule_with_warmup, get_cosine_schedule_with_warmup\n",
    "%env TOKENIZERS_PARALLELISM=true\n",
    "print(f\"tokenizers.__version__: {tokenizers.__version__}\")\n",
    "print(f\"transformers.__version__: {transformers.__version__}\")"
   ]
  },
  {
   "cell_type": "code",
   "execution_count": 4,
   "id": "e6a11311",
   "metadata": {
    "execution": {
     "iopub.execute_input": "2024-06-20T21:36:24.715700Z",
     "iopub.status.busy": "2024-06-20T21:36:24.715271Z",
     "iopub.status.idle": "2024-06-20T21:36:24.721071Z",
     "shell.execute_reply": "2024-06-20T21:36:24.720303Z"
    },
    "papermill": {
     "duration": 0.013228,
     "end_time": "2024-06-20T21:36:24.722984",
     "exception": false,
     "start_time": "2024-06-20T21:36:24.709756",
     "status": "completed"
    },
    "tags": []
   },
   "outputs": [],
   "source": [
    "class config:\n",
    "    APEX = True # Automatic Precision Enabled\n",
    "    BATCH_SIZE_TEST = 16\n",
    "    DEBUG = False\n",
    "    GRADIENT_CHECKPOINTING = True\n",
    "    MAX_LEN = 512\n",
    "    MODEL = \"microsoft/deberta-v3-base\"\n",
    "    NUM_CLASSES = 6\n",
    "    NUM_WORKERS = 0 #multiprocessing.cpu_count()\n",
    "    PRINT_FREQ = 20\n",
    "    SEED = 20\n",
    "class paths:\n",
    "    BEST_MODEL_PATH = \"/kaggle/input/weighted-average-pool/output\"\n",
    "    TokenizerPath= \"/kaggle/input/first-run-v1/output\"\n",
    "    OUTPUT_DIR = \"/content/output\"\n",
    "    SUBMISSION_CSV = \"/kaggle/input/learning-agency-lab-automated-essay-scoring-2/sample_submission.csv\"\n",
    "    TEST_CSV = \"/kaggle/input/learning-agency-lab-automated-essay-scoring-2/test.csv\"\n",
    "    TRAIN_CSV = \"/kaggle/input/learning-agency-lab-automated-essay-scoring-2/train.csv\""
   ]
  },
  {
   "cell_type": "code",
   "execution_count": 5,
   "id": "e3093aeb",
   "metadata": {
    "execution": {
     "iopub.execute_input": "2024-06-20T21:36:24.733926Z",
     "iopub.status.busy": "2024-06-20T21:36:24.733200Z",
     "iopub.status.idle": "2024-06-20T21:36:24.742451Z",
     "shell.execute_reply": "2024-06-20T21:36:24.741647Z"
    },
    "papermill": {
     "duration": 0.016806,
     "end_time": "2024-06-20T21:36:24.744406",
     "exception": false,
     "start_time": "2024-06-20T21:36:24.727600",
     "status": "completed"
    },
    "tags": []
   },
   "outputs": [],
   "source": [
    "def get_score(y_true, y_pred):\n",
    "    score = cohen_kappa_score(y_true, y_pred, weights='quadratic')\n",
    "    return score\n",
    "def seed_everything(seed=20):\n",
    "    \"\"\"Seed everything to ensure reproducibility\"\"\"\n",
    "    random.seed(seed)\n",
    "    os.environ['PYTHONHASHSEED'] = str(seed)\n",
    "    np.random.seed(seed)\n",
    "    torch.manual_seed(seed)\n",
    "    torch.cuda.manual_seed(seed)\n",
    "    torch.backends.cudnn.deterministic = True\n",
    "def sep():\n",
    "    print(\"-\"*100)\n",
    "seed_everything(seed=config.SEED)"
   ]
  },
  {
   "cell_type": "markdown",
   "id": "c6dde6f6",
   "metadata": {
    "papermill": {
     "duration": 0.004666,
     "end_time": "2024-06-20T21:36:24.754020",
     "exception": false,
     "start_time": "2024-06-20T21:36:24.749354",
     "status": "completed"
    },
    "tags": []
   },
   "source": []
  },
  {
   "cell_type": "code",
   "execution_count": 6,
   "id": "8399becc",
   "metadata": {
    "execution": {
     "iopub.execute_input": "2024-06-20T21:36:24.764950Z",
     "iopub.status.busy": "2024-06-20T21:36:24.764624Z",
     "iopub.status.idle": "2024-06-20T21:36:24.798925Z",
     "shell.execute_reply": "2024-06-20T21:36:24.797860Z"
    },
    "papermill": {
     "duration": 0.042042,
     "end_time": "2024-06-20T21:36:24.800814",
     "exception": false,
     "start_time": "2024-06-20T21:36:24.758772",
     "status": "completed"
    },
    "tags": []
   },
   "outputs": [
    {
     "name": "stdout",
     "output_type": "stream",
     "text": [
      "Test dataframe has shape: (3, 2)\n",
      "----------------------------------------------------------------------------------------------------\n"
     ]
    },
    {
     "data": {
      "text/html": [
       "<div>\n",
       "<style scoped>\n",
       "    .dataframe tbody tr th:only-of-type {\n",
       "        vertical-align: middle;\n",
       "    }\n",
       "\n",
       "    .dataframe tbody tr th {\n",
       "        vertical-align: top;\n",
       "    }\n",
       "\n",
       "    .dataframe thead th {\n",
       "        text-align: right;\n",
       "    }\n",
       "</style>\n",
       "<table border=\"1\" class=\"dataframe\">\n",
       "  <thead>\n",
       "    <tr style=\"text-align: right;\">\n",
       "      <th></th>\n",
       "      <th>essay_id</th>\n",
       "      <th>full_text</th>\n",
       "    </tr>\n",
       "  </thead>\n",
       "  <tbody>\n",
       "    <tr>\n",
       "      <th>0</th>\n",
       "      <td>000d118</td>\n",
       "      <td>Many people have car where they live. The thin...</td>\n",
       "    </tr>\n",
       "    <tr>\n",
       "      <th>1</th>\n",
       "      <td>000fe60</td>\n",
       "      <td>I am a scientist at NASA that is discussing th...</td>\n",
       "    </tr>\n",
       "    <tr>\n",
       "      <th>2</th>\n",
       "      <td>001ab80</td>\n",
       "      <td>People always wish they had the same technolog...</td>\n",
       "    </tr>\n",
       "  </tbody>\n",
       "</table>\n",
       "</div>"
      ],
      "text/plain": [
       "  essay_id                                          full_text\n",
       "0  000d118  Many people have car where they live. The thin...\n",
       "1  000fe60  I am a scientist at NASA that is discussing th...\n",
       "2  001ab80  People always wish they had the same technolog..."
      ]
     },
     "metadata": {},
     "output_type": "display_data"
    }
   ],
   "source": [
    "test_df = pd.read_csv(paths.TEST_CSV, sep=',')\n",
    "print(f\"Test dataframe has shape: {test_df.shape}\"), sep()\n",
    "display(test_df.head())"
   ]
  },
  {
   "cell_type": "code",
   "execution_count": 7,
   "id": "f125f115",
   "metadata": {
    "execution": {
     "iopub.execute_input": "2024-06-20T21:36:24.812336Z",
     "iopub.status.busy": "2024-06-20T21:36:24.812008Z",
     "iopub.status.idle": "2024-06-20T21:36:25.278454Z",
     "shell.execute_reply": "2024-06-20T21:36:25.277511Z"
    },
    "papermill": {
     "duration": 0.4747,
     "end_time": "2024-06-20T21:36:25.280626",
     "exception": false,
     "start_time": "2024-06-20T21:36:24.805926",
     "status": "completed"
    },
    "tags": []
   },
   "outputs": [
    {
     "name": "stdout",
     "output_type": "stream",
     "text": [
      "Total number of tokens in the tokenizer: 128001\n",
      "DebertaV2TokenizerFast(name_or_path='/kaggle/input/first-run-v1/output/tokenizer', vocab_size=128000, model_max_length=1000000000000000019884624838656, is_fast=True, padding_side='right', truncation_side='right', special_tokens={'bos_token': '[CLS]', 'eos_token': '[SEP]', 'unk_token': '[UNK]', 'sep_token': '[SEP]', 'pad_token': '[PAD]', 'cls_token': '[CLS]', 'mask_token': '[MASK]'}, clean_up_tokenization_spaces=True),  added_tokens_decoder={\n",
      "\t0: AddedToken(\"[PAD]\", rstrip=False, lstrip=False, single_word=False, normalized=False, special=True),\n",
      "\t1: AddedToken(\"[CLS]\", rstrip=False, lstrip=False, single_word=False, normalized=False, special=True),\n",
      "\t2: AddedToken(\"[SEP]\", rstrip=False, lstrip=False, single_word=False, normalized=False, special=True),\n",
      "\t3: AddedToken(\"[UNK]\", rstrip=False, lstrip=False, single_word=False, normalized=True, special=True),\n",
      "\t128000: AddedToken(\"[MASK]\", rstrip=False, lstrip=False, single_word=False, normalized=False, special=True),\n",
      "}\n"
     ]
    }
   ],
   "source": [
    "tokenizer = AutoTokenizer.from_pretrained(paths.TokenizerPath + \"/tokenizer\")\n",
    "vocabulary = tokenizer.get_vocab()\n",
    "total_tokens = len(vocabulary)\n",
    "print(\"Total number of tokens in the tokenizer:\", total_tokens)\n",
    "print(tokenizer)"
   ]
  },
  {
   "cell_type": "code",
   "execution_count": 8,
   "id": "68fdd7e0",
   "metadata": {
    "execution": {
     "iopub.execute_input": "2024-06-20T21:36:25.292733Z",
     "iopub.status.busy": "2024-06-20T21:36:25.292417Z",
     "iopub.status.idle": "2024-06-20T21:36:25.302636Z",
     "shell.execute_reply": "2024-06-20T21:36:25.301828Z"
    },
    "papermill": {
     "duration": 0.018363,
     "end_time": "2024-06-20T21:36:25.304513",
     "exception": false,
     "start_time": "2024-06-20T21:36:25.286150",
     "status": "completed"
    },
    "tags": []
   },
   "outputs": [],
   "source": [
    "def prepare_input(cfg, text, tokenizer):\n",
    "    \"\"\"\n",
    "    This function tokenizes the input text with the configured padding and truncation. Then,\n",
    "    returns the input dictionary, which contains the following keys: \"input_ids\",\n",
    "    \"token_type_ids\" and \"attention_mask\". Each value is a torch.tensor.\n",
    "    :param cfg: configuration class with a TOKENIZER attribute.\n",
    "    :param text: a numpy array where each value is a text as string.\n",
    "    :return inputs: python dictionary where values are torch tensors.\n",
    "    \"\"\"\n",
    "    inputs = tokenizer.encode_plus(\n",
    "        text,\n",
    "        return_tensors=None,\n",
    "        add_special_tokens=True,\n",
    "        max_length=cfg.MAX_LEN,\n",
    "        padding='max_length', # TODO: check padding to max sequence in batch\n",
    "        truncation=True\n",
    "    )\n",
    "    for k, v in inputs.items():\n",
    "        inputs[k] = torch.tensor(v, dtype=torch.long) # TODO: check dtypes\n",
    "    return inputs\n",
    "def collate(inputs):\n",
    "    \"\"\"\n",
    "    It truncates the inputs to the maximum sequence length in the batch.\n",
    "    \"\"\"\n",
    "    mask_len = int(inputs[\"attention_mask\"].sum(axis=1).max()) # Get batch's max sequence length\n",
    "    for k, v in inputs.items():\n",
    "        inputs[k] = inputs[k][:,:mask_len]\n",
    "    return inputs\n",
    "class CustomDataset(Dataset):\n",
    "    def __init__(self, cfg, df, tokenizer):\n",
    "        self.cfg = cfg\n",
    "        self.tokenizer = tokenizer\n",
    "        self.texts = df['full_text'].values\n",
    "        self.essay_ids = df['essay_id'].values\n",
    "    def __len__(self):\n",
    "        return len(self.texts)\n",
    "    def __getitem__(self, item):\n",
    "        output = {}\n",
    "        output[\"inputs\"] = prepare_input(self.cfg, self.texts[item], self.tokenizer)\n",
    "        output[\"essay_ids\"] = self.essay_ids[item]\n",
    "        return output"
   ]
  },
  {
   "cell_type": "code",
   "execution_count": 9,
   "id": "e277256c",
   "metadata": {
    "execution": {
     "iopub.execute_input": "2024-06-20T21:36:25.316241Z",
     "iopub.status.busy": "2024-06-20T21:36:25.315917Z",
     "iopub.status.idle": "2024-06-20T21:36:25.331485Z",
     "shell.execute_reply": "2024-06-20T21:36:25.330599Z"
    },
    "papermill": {
     "duration": 0.023576,
     "end_time": "2024-06-20T21:36:25.333369",
     "exception": false,
     "start_time": "2024-06-20T21:36:25.309793",
     "status": "completed"
    },
    "tags": []
   },
   "outputs": [],
   "source": [
    "class MeanPooling(nn.Module):\n",
    "    def __init__(self):\n",
    "        super(MeanPooling, self).__init__()\n",
    "    def forward(self, last_hidden_state, attention_mask):\n",
    "        input_mask_expanded = attention_mask.unsqueeze(-1).expand(last_hidden_state.size()).float()\n",
    "        sum_embeddings = torch.sum(last_hidden_state * input_mask_expanded, 1)\n",
    "        sum_mask = input_mask_expanded.sum(1)\n",
    "        sum_mask = torch.clamp(sum_mask, min=1e-9)\n",
    "        mean_embeddings = sum_embeddings / sum_mask\n",
    "        return mean_embeddings\n",
    "class CustomModel(nn.Module):\n",
    "    def __init__(self, cfg, config_path=None, pretrained=False):\n",
    "        super().__init__()\n",
    "        self.cfg = cfg\n",
    "        # Load config by inferencing it from the model name.\n",
    "        if config_path is None:\n",
    "            self.config = AutoConfig.from_pretrained(cfg.MODEL, output_hidden_states=True)\n",
    "            self.config.hidden_dropout = 0.\n",
    "            self.config.hidden_dropout_prob = 0.\n",
    "            self.config.attention_dropout = 0.\n",
    "            self.config.attention_probs_dropout_prob = 0.\n",
    "        # Load config from a file.\n",
    "        else:\n",
    "            self.config = torch.load(config_path)\n",
    "        if pretrained:\n",
    "            self.model = AutoModel.from_pretrained(cfg.MODEL, config=self.config)\n",
    "        else:\n",
    "            self.model = AutoModel.from_config(self.config)\n",
    "        if self.cfg.GRADIENT_CHECKPOINTING:\n",
    "            self.model.gradient_checkpointing_enable()\n",
    "        # Add MeanPooling and Linear head at the end to transform the Model into a RegressionModel\n",
    "        self.pool = MeanPooling()\n",
    "        self.fc = nn.Linear(self.config.hidden_size, config.NUM_CLASSES)\n",
    "    def _init_weights(self, module):\n",
    "        \"\"\"\n",
    "        This method initializes weights for different types of layers. The type of layers\n",
    "        supported are nn.Linear, nn.Embedding and nn.LayerNorm.\n",
    "        \"\"\"\n",
    "        if isinstance(module, nn.Linear):\n",
    "            module.weight.data.normal_(mean=0.0, std=self.config.initializer_range)\n",
    "            if module.bias is not None:\n",
    "                module.bias.data.zero_()\n",
    "        elif isinstance(module, nn.Embedding):\n",
    "            module.weight.data.normal_(mean=0.0, std=self.config.initializer_range)\n",
    "            if module.padding_idx is not None:\n",
    "                module.weight.data[module.padding_idx].zero_()\n",
    "        elif isinstance(module, nn.LayerNorm):\n",
    "            module.bias.data.zero_()\n",
    "            module.weight.data.fill_(1.0)\n",
    "    def feature(self, inputs):\n",
    "        \"\"\"\n",
    "        This method makes a forward pass through the model, get the last hidden state (embedding)\n",
    "        and pass it through the MeanPooling layer.\n",
    "        \"\"\"\n",
    "        outputs = self.model(**inputs)\n",
    "        last_hidden_states = outputs[0]\n",
    "        feature = self.pool(last_hidden_states, inputs['attention_mask'])\n",
    "        return feature\n",
    "    def forward(self, inputs):\n",
    "        \"\"\"\n",
    "        This method makes a forward pass through the model, the MeanPooling layer and finally\n",
    "        then through the Linear layer to get a regression value.\n",
    "        \"\"\"\n",
    "        feature = self.feature(inputs)\n",
    "        output = self.fc(feature)\n",
    "        return output"
   ]
  },
  {
   "cell_type": "code",
   "execution_count": 10,
   "id": "d5350709",
   "metadata": {
    "execution": {
     "iopub.execute_input": "2024-06-20T21:36:25.345034Z",
     "iopub.status.busy": "2024-06-20T21:36:25.344718Z",
     "iopub.status.idle": "2024-06-20T21:36:25.354948Z",
     "shell.execute_reply": "2024-06-20T21:36:25.354103Z"
    },
    "papermill": {
     "duration": 0.018302,
     "end_time": "2024-06-20T21:36:25.356782",
     "exception": false,
     "start_time": "2024-06-20T21:36:25.338480",
     "status": "completed"
    },
    "tags": []
   },
   "outputs": [],
   "source": [
    "def inference_fn(config, test_df, tokenizer, device):\n",
    "    # ======== DATASETS ==========\n",
    "    test_dataset = CustomDataset(config, test_df, tokenizer)\n",
    "    # ======== DATALOADERS ==========\n",
    "    test_loader = DataLoader(\n",
    "        test_dataset,\n",
    "        batch_size=config.BATCH_SIZE_TEST,\n",
    "        shuffle=False,\n",
    "        num_workers=0,\n",
    "        pin_memory=True,\n",
    "        drop_last=False\n",
    "    )\n",
    "    \n",
    "    # ======== MODEL ==========\n",
    "    softmax = nn.Softmax(dim=1)\n",
    "    model = CustomModel(config, config_path=paths.BEST_MODEL_PATH + \"/config.pth\", pretrained=False)\n",
    "    state = torch.load(paths.BEST_MODEL_PATH + \"/microsoft_deberta-v3-base_fold_3_best.pth\")\n",
    "    model.load_state_dict(state[\"model\"])\n",
    "    model.to(device)\n",
    "    model.eval() # set model in evaluation mode\n",
    "    prediction_dict = {}\n",
    "    preds = []\n",
    "    idx = []\n",
    "    with tqdm(test_loader, unit=\"test_batch\", desc='Inference') as tqdm_test_loader:\n",
    "        for step, batch in enumerate(tqdm_test_loader):\n",
    "            inputs = batch.pop(\"inputs\")\n",
    "            ids = batch.pop(\"essay_ids\")\n",
    "            inputs = collate(inputs) # collate inputs\n",
    "            for k, v in inputs.items():\n",
    "                inputs[k] = v.to(device) # send inputs to device\n",
    "            with torch.no_grad():\n",
    "                y_preds = model(inputs) # forward propagation pass\n",
    "                _, y_preds = torch.max(softmax(torch.tensor(y_preds)), dim=1)\n",
    "            preds.append(y_preds.to('cpu').numpy()) # save predictions\n",
    "            idx.append(ids)\n",
    "    prediction_dict[\"predictions\"] = np.concatenate(preds)\n",
    "    prediction_dict[\"essay_ids\"] = np.concatenate(idx)\n",
    "    return prediction_dict"
   ]
  },
  {
   "cell_type": "code",
   "execution_count": null,
   "id": "647b181f",
   "metadata": {
    "papermill": {
     "duration": 0.005036,
     "end_time": "2024-06-20T21:36:25.367227",
     "exception": false,
     "start_time": "2024-06-20T21:36:25.362191",
     "status": "completed"
    },
    "tags": []
   },
   "outputs": [],
   "source": []
  },
  {
   "cell_type": "code",
   "execution_count": 11,
   "id": "728fd12e",
   "metadata": {
    "execution": {
     "iopub.execute_input": "2024-06-20T21:36:25.378967Z",
     "iopub.status.busy": "2024-06-20T21:36:25.378663Z",
     "iopub.status.idle": "2024-06-20T21:36:36.607662Z",
     "shell.execute_reply": "2024-06-20T21:36:36.606682Z"
    },
    "papermill": {
     "duration": 11.237353,
     "end_time": "2024-06-20T21:36:36.609755",
     "exception": false,
     "start_time": "2024-06-20T21:36:25.372402",
     "status": "completed"
    },
    "tags": []
   },
   "outputs": [
    {
     "data": {
      "application/vnd.jupyter.widget-view+json": {
       "model_id": "67e6cea70b4f4622b094e26aa991f354",
       "version_major": 2,
       "version_minor": 0
      },
      "text/plain": [
       "Inference:   0%|          | 0/1 [00:00<?, ?test_batch/s]"
      ]
     },
     "metadata": {},
     "output_type": "display_data"
    }
   ],
   "source": [
    "predictions = inference_fn(config, test_df, tokenizer, device)"
   ]
  },
  {
   "cell_type": "code",
   "execution_count": 12,
   "id": "32c3c7a4",
   "metadata": {
    "execution": {
     "iopub.execute_input": "2024-06-20T21:36:36.622992Z",
     "iopub.status.busy": "2024-06-20T21:36:36.622530Z",
     "iopub.status.idle": "2024-06-20T21:36:36.642993Z",
     "shell.execute_reply": "2024-06-20T21:36:36.642037Z"
    },
    "papermill": {
     "duration": 0.029267,
     "end_time": "2024-06-20T21:36:36.645161",
     "exception": false,
     "start_time": "2024-06-20T21:36:36.615894",
     "status": "completed"
    },
    "tags": []
   },
   "outputs": [
    {
     "name": "stdout",
     "output_type": "stream",
     "text": [
      "Submission shape: (3, 2)\n"
     ]
    },
    {
     "data": {
      "text/html": [
       "<div>\n",
       "<style scoped>\n",
       "    .dataframe tbody tr th:only-of-type {\n",
       "        vertical-align: middle;\n",
       "    }\n",
       "\n",
       "    .dataframe tbody tr th {\n",
       "        vertical-align: top;\n",
       "    }\n",
       "\n",
       "    .dataframe thead th {\n",
       "        text-align: right;\n",
       "    }\n",
       "</style>\n",
       "<table border=\"1\" class=\"dataframe\">\n",
       "  <thead>\n",
       "    <tr style=\"text-align: right;\">\n",
       "      <th></th>\n",
       "      <th>essay_id</th>\n",
       "      <th>score</th>\n",
       "    </tr>\n",
       "  </thead>\n",
       "  <tbody>\n",
       "    <tr>\n",
       "      <th>0</th>\n",
       "      <td>000d118</td>\n",
       "      <td>2</td>\n",
       "    </tr>\n",
       "    <tr>\n",
       "      <th>1</th>\n",
       "      <td>000fe60</td>\n",
       "      <td>2</td>\n",
       "    </tr>\n",
       "    <tr>\n",
       "      <th>2</th>\n",
       "      <td>001ab80</td>\n",
       "      <td>4</td>\n",
       "    </tr>\n",
       "  </tbody>\n",
       "</table>\n",
       "</div>"
      ],
      "text/plain": [
       "  essay_id  score\n",
       "0  000d118      2\n",
       "1  000fe60      2\n",
       "2  001ab80      4"
      ]
     },
     "execution_count": 12,
     "metadata": {},
     "output_type": "execute_result"
    }
   ],
   "source": [
    "submission = pd.DataFrame()\n",
    "submission[\"essay_id\"] = predictions[\"essay_ids\"]\n",
    "submission[\"score\"] = predictions[\"predictions\"]\n",
    "submission[\"score\"] = submission[\"score\"] + 1 \n",
    "print(f\"Submission shape: {submission.shape}\")\n",
    "submission.to_csv(\"submission.csv\", index=False)\n",
    "submission"
   ]
  }
 ],
 "metadata": {
  "kaggle": {
   "accelerator": "gpu",
   "dataSources": [
    {
     "databundleVersionId": 8059942,
     "sourceId": 71485,
     "sourceType": "competition"
    },
    {
     "datasetId": 5241786,
     "sourceId": 8741267,
     "sourceType": "datasetVersion"
    },
    {
     "datasetId": 5022170,
     "sourceId": 8741482,
     "sourceType": "datasetVersion"
    }
   ],
   "dockerImageVersionId": 30698,
   "isGpuEnabled": true,
   "isInternetEnabled": false,
   "language": "python",
   "sourceType": "notebook"
  },
  "kernelspec": {
   "display_name": "Python 3",
   "language": "python",
   "name": "python3"
  },
  "language_info": {
   "codemirror_mode": {
    "name": "ipython",
    "version": 3
   },
   "file_extension": ".py",
   "mimetype": "text/x-python",
   "name": "python",
   "nbconvert_exporter": "python",
   "pygments_lexer": "ipython3",
   "version": "3.10.13"
  },
  "papermill": {
   "default_parameters": {},
   "duration": 25.818732,
   "end_time": "2024-06-20T21:36:38.474250",
   "environment_variables": {},
   "exception": null,
   "input_path": "__notebook__.ipynb",
   "output_path": "__notebook__.ipynb",
   "parameters": {},
   "start_time": "2024-06-20T21:36:12.655518",
   "version": "2.5.0"
  },
  "widgets": {
   "application/vnd.jupyter.widget-state+json": {
    "state": {
     "19975910af2c4fb1aefd215437817ee8": {
      "model_module": "@jupyter-widgets/controls",
      "model_module_version": "1.5.0",
      "model_name": "HTMLModel",
      "state": {
       "_dom_classes": [],
       "_model_module": "@jupyter-widgets/controls",
       "_model_module_version": "1.5.0",
       "_model_name": "HTMLModel",
       "_view_count": null,
       "_view_module": "@jupyter-widgets/controls",
       "_view_module_version": "1.5.0",
       "_view_name": "HTMLView",
       "description": "",
       "description_tooltip": null,
       "layout": "IPY_MODEL_fa6a881489df4b7dac5f1709073879e1",
       "placeholder": "​",
       "style": "IPY_MODEL_b16eb54855964512bdd12a1bdf9a989b",
       "value": "Inference: 100%"
      }
     },
     "2c1a87c4fa28480cb509b3e6b38b7370": {
      "model_module": "@jupyter-widgets/base",
      "model_module_version": "1.2.0",
      "model_name": "LayoutModel",
      "state": {
       "_model_module": "@jupyter-widgets/base",
       "_model_module_version": "1.2.0",
       "_model_name": "LayoutModel",
       "_view_count": null,
       "_view_module": "@jupyter-widgets/base",
       "_view_module_version": "1.2.0",
       "_view_name": "LayoutView",
       "align_content": null,
       "align_items": null,
       "align_self": null,
       "border": null,
       "bottom": null,
       "display": null,
       "flex": null,
       "flex_flow": null,
       "grid_area": null,
       "grid_auto_columns": null,
       "grid_auto_flow": null,
       "grid_auto_rows": null,
       "grid_column": null,
       "grid_gap": null,
       "grid_row": null,
       "grid_template_areas": null,
       "grid_template_columns": null,
       "grid_template_rows": null,
       "height": null,
       "justify_content": null,
       "justify_items": null,
       "left": null,
       "margin": null,
       "max_height": null,
       "max_width": null,
       "min_height": null,
       "min_width": null,
       "object_fit": null,
       "object_position": null,
       "order": null,
       "overflow": null,
       "overflow_x": null,
       "overflow_y": null,
       "padding": null,
       "right": null,
       "top": null,
       "visibility": null,
       "width": null
      }
     },
     "67e6cea70b4f4622b094e26aa991f354": {
      "model_module": "@jupyter-widgets/controls",
      "model_module_version": "1.5.0",
      "model_name": "HBoxModel",
      "state": {
       "_dom_classes": [],
       "_model_module": "@jupyter-widgets/controls",
       "_model_module_version": "1.5.0",
       "_model_name": "HBoxModel",
       "_view_count": null,
       "_view_module": "@jupyter-widgets/controls",
       "_view_module_version": "1.5.0",
       "_view_name": "HBoxView",
       "box_style": "",
       "children": [
        "IPY_MODEL_19975910af2c4fb1aefd215437817ee8",
        "IPY_MODEL_a455b539c23c4645a52dce496cb25bd2",
        "IPY_MODEL_a11c76d901ab4d49a93e18eecc75e6db"
       ],
       "layout": "IPY_MODEL_2c1a87c4fa28480cb509b3e6b38b7370"
      }
     },
     "6c8e142d1e8b4f54978226a5458d03e6": {
      "model_module": "@jupyter-widgets/controls",
      "model_module_version": "1.5.0",
      "model_name": "DescriptionStyleModel",
      "state": {
       "_model_module": "@jupyter-widgets/controls",
       "_model_module_version": "1.5.0",
       "_model_name": "DescriptionStyleModel",
       "_view_count": null,
       "_view_module": "@jupyter-widgets/base",
       "_view_module_version": "1.2.0",
       "_view_name": "StyleView",
       "description_width": ""
      }
     },
     "8327fc92b8294a888703b0d0716b62f4": {
      "model_module": "@jupyter-widgets/base",
      "model_module_version": "1.2.0",
      "model_name": "LayoutModel",
      "state": {
       "_model_module": "@jupyter-widgets/base",
       "_model_module_version": "1.2.0",
       "_model_name": "LayoutModel",
       "_view_count": null,
       "_view_module": "@jupyter-widgets/base",
       "_view_module_version": "1.2.0",
       "_view_name": "LayoutView",
       "align_content": null,
       "align_items": null,
       "align_self": null,
       "border": null,
       "bottom": null,
       "display": null,
       "flex": null,
       "flex_flow": null,
       "grid_area": null,
       "grid_auto_columns": null,
       "grid_auto_flow": null,
       "grid_auto_rows": null,
       "grid_column": null,
       "grid_gap": null,
       "grid_row": null,
       "grid_template_areas": null,
       "grid_template_columns": null,
       "grid_template_rows": null,
       "height": null,
       "justify_content": null,
       "justify_items": null,
       "left": null,
       "margin": null,
       "max_height": null,
       "max_width": null,
       "min_height": null,
       "min_width": null,
       "object_fit": null,
       "object_position": null,
       "order": null,
       "overflow": null,
       "overflow_x": null,
       "overflow_y": null,
       "padding": null,
       "right": null,
       "top": null,
       "visibility": null,
       "width": null
      }
     },
     "88b28fcd7e5a4e4d9a6a593fcc7dc4a4": {
      "model_module": "@jupyter-widgets/base",
      "model_module_version": "1.2.0",
      "model_name": "LayoutModel",
      "state": {
       "_model_module": "@jupyter-widgets/base",
       "_model_module_version": "1.2.0",
       "_model_name": "LayoutModel",
       "_view_count": null,
       "_view_module": "@jupyter-widgets/base",
       "_view_module_version": "1.2.0",
       "_view_name": "LayoutView",
       "align_content": null,
       "align_items": null,
       "align_self": null,
       "border": null,
       "bottom": null,
       "display": null,
       "flex": null,
       "flex_flow": null,
       "grid_area": null,
       "grid_auto_columns": null,
       "grid_auto_flow": null,
       "grid_auto_rows": null,
       "grid_column": null,
       "grid_gap": null,
       "grid_row": null,
       "grid_template_areas": null,
       "grid_template_columns": null,
       "grid_template_rows": null,
       "height": null,
       "justify_content": null,
       "justify_items": null,
       "left": null,
       "margin": null,
       "max_height": null,
       "max_width": null,
       "min_height": null,
       "min_width": null,
       "object_fit": null,
       "object_position": null,
       "order": null,
       "overflow": null,
       "overflow_x": null,
       "overflow_y": null,
       "padding": null,
       "right": null,
       "top": null,
       "visibility": null,
       "width": null
      }
     },
     "a11c76d901ab4d49a93e18eecc75e6db": {
      "model_module": "@jupyter-widgets/controls",
      "model_module_version": "1.5.0",
      "model_name": "HTMLModel",
      "state": {
       "_dom_classes": [],
       "_model_module": "@jupyter-widgets/controls",
       "_model_module_version": "1.5.0",
       "_model_name": "HTMLModel",
       "_view_count": null,
       "_view_module": "@jupyter-widgets/controls",
       "_view_module_version": "1.5.0",
       "_view_name": "HTMLView",
       "description": "",
       "description_tooltip": null,
       "layout": "IPY_MODEL_88b28fcd7e5a4e4d9a6a593fcc7dc4a4",
       "placeholder": "​",
       "style": "IPY_MODEL_6c8e142d1e8b4f54978226a5458d03e6",
       "value": " 1/1 [00:00&lt;00:00,  1.16test_batch/s]"
      }
     },
     "a455b539c23c4645a52dce496cb25bd2": {
      "model_module": "@jupyter-widgets/controls",
      "model_module_version": "1.5.0",
      "model_name": "FloatProgressModel",
      "state": {
       "_dom_classes": [],
       "_model_module": "@jupyter-widgets/controls",
       "_model_module_version": "1.5.0",
       "_model_name": "FloatProgressModel",
       "_view_count": null,
       "_view_module": "@jupyter-widgets/controls",
       "_view_module_version": "1.5.0",
       "_view_name": "ProgressView",
       "bar_style": "success",
       "description": "",
       "description_tooltip": null,
       "layout": "IPY_MODEL_8327fc92b8294a888703b0d0716b62f4",
       "max": 1.0,
       "min": 0.0,
       "orientation": "horizontal",
       "style": "IPY_MODEL_eac79412d4e047169c586ac71e02764f",
       "value": 1.0
      }
     },
     "b16eb54855964512bdd12a1bdf9a989b": {
      "model_module": "@jupyter-widgets/controls",
      "model_module_version": "1.5.0",
      "model_name": "DescriptionStyleModel",
      "state": {
       "_model_module": "@jupyter-widgets/controls",
       "_model_module_version": "1.5.0",
       "_model_name": "DescriptionStyleModel",
       "_view_count": null,
       "_view_module": "@jupyter-widgets/base",
       "_view_module_version": "1.2.0",
       "_view_name": "StyleView",
       "description_width": ""
      }
     },
     "eac79412d4e047169c586ac71e02764f": {
      "model_module": "@jupyter-widgets/controls",
      "model_module_version": "1.5.0",
      "model_name": "ProgressStyleModel",
      "state": {
       "_model_module": "@jupyter-widgets/controls",
       "_model_module_version": "1.5.0",
       "_model_name": "ProgressStyleModel",
       "_view_count": null,
       "_view_module": "@jupyter-widgets/base",
       "_view_module_version": "1.2.0",
       "_view_name": "StyleView",
       "bar_color": null,
       "description_width": ""
      }
     },
     "fa6a881489df4b7dac5f1709073879e1": {
      "model_module": "@jupyter-widgets/base",
      "model_module_version": "1.2.0",
      "model_name": "LayoutModel",
      "state": {
       "_model_module": "@jupyter-widgets/base",
       "_model_module_version": "1.2.0",
       "_model_name": "LayoutModel",
       "_view_count": null,
       "_view_module": "@jupyter-widgets/base",
       "_view_module_version": "1.2.0",
       "_view_name": "LayoutView",
       "align_content": null,
       "align_items": null,
       "align_self": null,
       "border": null,
       "bottom": null,
       "display": null,
       "flex": null,
       "flex_flow": null,
       "grid_area": null,
       "grid_auto_columns": null,
       "grid_auto_flow": null,
       "grid_auto_rows": null,
       "grid_column": null,
       "grid_gap": null,
       "grid_row": null,
       "grid_template_areas": null,
       "grid_template_columns": null,
       "grid_template_rows": null,
       "height": null,
       "justify_content": null,
       "justify_items": null,
       "left": null,
       "margin": null,
       "max_height": null,
       "max_width": null,
       "min_height": null,
       "min_width": null,
       "object_fit": null,
       "object_position": null,
       "order": null,
       "overflow": null,
       "overflow_x": null,
       "overflow_y": null,
       "padding": null,
       "right": null,
       "top": null,
       "visibility": null,
       "width": null
      }
     }
    },
    "version_major": 2,
    "version_minor": 0
   }
  }
 },
 "nbformat": 4,
 "nbformat_minor": 5
}
